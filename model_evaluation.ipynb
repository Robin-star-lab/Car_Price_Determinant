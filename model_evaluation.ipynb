def main(self):
    try:
        config = ModelEvaluationConfigurationManager()
        get_model_evaluation_config = config.get_model_evaluation_config()
        model_evaluation = ModelEvaluation(config = get_model_evaluation_config)
        
        # First store the evaluation data
        evaluation_data = model_evaluation.get_evaluation_data()
        
        # Then use the stored data for evaluation
        model_evaluation.evaluation_data(evaluation_data)
        
        model_evaluation.evaluate_models()
        model_evaluation.calculate_metric()
    except Exception as e:
        raise CustomException(e,sys)
