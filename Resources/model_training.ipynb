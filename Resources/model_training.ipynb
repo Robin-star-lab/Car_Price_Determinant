{
 "cells": [
  {
   "cell_type": "code",
   "execution_count": 1,
   "metadata": {},
   "outputs": [],
   "source": [
    "import os"
   ]
  },
  {
   "cell_type": "code",
   "execution_count": 2,
   "metadata": {},
   "outputs": [
    {
     "data": {
      "text/plain": [
       "'c:\\\\Users\\\\Robin Aluma\\\\Desktop\\\\Car_Price_Pred\\\\Resources'"
      ]
     },
     "execution_count": 2,
     "metadata": {},
     "output_type": "execute_result"
    }
   ],
   "source": [
    "pwd\n"
   ]
  },
  {
   "cell_type": "code",
   "execution_count": 3,
   "metadata": {},
   "outputs": [],
   "source": [
    "os.chdir('../')\n",
    "from dataclasses import dataclass\n",
    "from pathlib import Path\n",
    "from src.Car_Price_Pred.constants import *\n",
    "import yaml\n",
    "from src.Car_Price_Pred.utils.common import read_yaml,create_directories,save_models,save_parameters"
   ]
  },
  {
   "cell_type": "code",
   "execution_count": 4,
   "metadata": {},
   "outputs": [],
   "source": [
    "# Model training configuration\n",
    "@dataclass\n",
    "class ModelTrainingConfig():\n",
    "    root_url: Path\n",
    "    train_data: Path\n",
    "    params: dict\n",
    "    fit_intercept: bool\n",
    "    n_jobs: int\n",
    "    max_depth: int\n",
    "    min_samples_split: int\n",
    "    min_samples_leaf: int\n",
    "    random_state: int\n",
    "    n_estimators: int\n",
    "    alpha: float\n",
    "    max_iter: int\n",
    "    tol: float\n",
    "    n_neighbors: int\n",
    "    weights: str\n",
    "    algorithm: str\n",
    "    p: int\n",
    "    gamma: str\n",
    "    kernel: str\n",
    "    C: float\n",
    "    epsilon: float"
   ]
  },
  {
   "cell_type": "code",
   "execution_count": 5,
   "metadata": {},
   "outputs": [],
   "source": [
    "# Creating model training configuration manager\n",
    "\n",
    "class ModelTrainerConfigurationManager:\n",
    "    def __init__(self,config_file_path = CONFIG_FILE_PATH,\n",
    "                 param_file_path = PARAMS_FILE_PATH):\n",
    "        self.config = read_yaml(config_file_path)\n",
    "        self.params = read_yaml(param_file_path)\n",
    "        \n",
    "        create_directories([self.config.Artifacts_root])\n",
    "        \n",
    "    def get_model_trainer_config(self)->ModelTrainingConfig:\n",
    "        config = self.config.model_training\n",
    "        params = self.params.parameters\n",
    "        \n",
    "        create_directories([config.root_url])\n",
    "        \n",
    "        get_model_trainer_config = ModelTrainingConfig(\n",
    "            root_url = config.root_url,\n",
    "            train_data = config.train_data,\n",
    "            params = params,\n",
    "            fit_intercept = params.fit_intercept,\n",
    "            n_jobs = params.n_jobs,\n",
    "            max_depth = params.max_depth,\n",
    "            min_samples_split = params.min_samples_split,\n",
    "            min_samples_leaf = params.min_samples_leaf,\n",
    "            random_state = params.random_state,\n",
    "            n_estimators = params.n_estimators,\n",
    "            alpha = params.alpha,\n",
    "            max_iter = params.max_iter,\n",
    "            tol = params.tol,\n",
    "            n_neighbors = params.n_neighbors,\n",
    "            weights = params.weights,\n",
    "            algorithm = params.algorithm,\n",
    "            p = params.p,\n",
    "            gamma = params.gamma,\n",
    "            kernel = params.kernel,\n",
    "            C = params.C,\n",
    "            epsilon = params.epsilon\n",
    "            \n",
    "        )\n",
    "        \n",
    "        return get_model_trainer_config"
   ]
  },
  {
   "cell_type": "code",
   "execution_count": 6,
   "metadata": {},
   "outputs": [],
   "source": [
    "from sklearn.linear_model import LinearRegression,Ridge,Lasso\n",
    "from sklearn.neighbors import KNeighborsRegressor\n",
    "from sklearn.svm import SVR\n",
    "from sklearn.tree import DecisionTreeRegressor\n",
    "from sklearn.ensemble import RandomForestRegressor\n",
    "from sklearn.metrics import r2_score\n",
    "from sklearn.model_selection import  train_test_split\n",
    "import pandas as pd\n",
    "import sys\n",
    "from Exceptions import CustomException\n",
    "import joblib "
   ]
  },
  {
   "cell_type": "markdown",
   "metadata": {},
   "source": []
  },
  {
   "cell_type": "code",
   "execution_count": 7,
   "metadata": {},
   "outputs": [],
   "source": [
    "class ModelTrainer():\n",
    "    def __init__(self,config: ModelTrainingConfig):\n",
    "        self.config = config\n",
    "        \n",
    "    def get_train_and_test_data(self):\n",
    "        # Gathering the training and testing data\n",
    "        train_data_path = self.config.train_data\n",
    "        \n",
    "        train = pd.read_csv(train_data_path,header=None)\n",
    "        train.fillna(train.mean(),inplace=True)\n",
    "        \n",
    "        X = train.iloc[:,:-1]\n",
    "        Y = train.iloc[:,-1]\n",
    "        \n",
    "        x_train,x_test,y_train,y_test = train_test_split(X,Y,test_size=0.3,random_state=42)\n",
    "        \n",
    "        # Create dictionary of models\n",
    "        models = {\n",
    "            'linear_regression': LinearRegression(fit_intercept=self.config.fit_intercept,n_jobs=self.config.n_jobs),\n",
    "            'decision_tree': DecisionTreeRegressor(max_depth=self.config.max_depth,min_samples_split=self.config.min_samples_split,min_samples_leaf=self.config.min_samples_leaf,random_state=self.config.random_state),\n",
    "            'random_forest': RandomForestRegressor(n_estimators=self.config.n_estimators,max_depth=self.config.max_depth),\n",
    "            'ridge': Ridge(alpha=self.config.alpha,fit_intercept=self.config.fit_intercept),\n",
    "            'lasso': Lasso(alpha=self.config.alpha,fit_intercept=self.config.fit_intercept),\n",
    "            'neighbors': KNeighborsRegressor(n_neighbors=self.config.n_neighbors,weights=self.config.weights,algorithm=self.config.algorithm,p=self.config.p),\n",
    "            'svm': SVR(kernel=self.config.kernel,C=self.config.C,gamma=self.config.gamma,epsilon=self.config.epsilon)\n",
    "        }\n",
    "        \n",
    "        best_model = None\n",
    "        best_score = 0\n",
    "        for name, model in models.items():\n",
    "            try:\n",
    "                model.fit(x_train, y_train)\n",
    "                predictions = model.predict(x_test)\n",
    "                params = model.get_params()\n",
    "                score = r2_score(y_test, predictions)\n",
    "                if score > best_score:\n",
    "                    best_model = model\n",
    "                    best_score = score\n",
    "                    \n",
    "            except Exception as e:\n",
    "                raise CustomException(e,sys)\n",
    "            \n",
    "            print(f\"Model:{best_model} Score:{best_score}\")"
   ]
  },
  {
   "cell_type": "code",
   "execution_count": 8,
   "metadata": {},
   "outputs": [
    {
     "name": "stdout",
     "output_type": "stream",
     "text": [
      "[ 2025-01-22 12:07:07,521 : common : INFO : Creates directory for path;artifacts in file paths :['artifacts'] ]\n",
      "[ 2025-01-22 12:07:07,523 : common : INFO : Creates directory for path;artifacts/model_training in file paths :['artifacts/model_training'] ]\n",
      "Model:LinearRegression(n_jobs=1) Score:0.7778757024516244\n",
      "Model:LinearRegression(n_jobs=1) Score:0.7778757024516244\n",
      "Model:RandomForestRegressor(max_depth=10) Score:0.8824415558134022\n",
      "Model:RandomForestRegressor(max_depth=10) Score:0.8824415558134022\n",
      "Model:RandomForestRegressor(max_depth=10) Score:0.8824415558134022\n",
      "Model:RandomForestRegressor(max_depth=10) Score:0.8824415558134022\n",
      "Model:RandomForestRegressor(max_depth=10) Score:0.8824415558134022\n"
     ]
    }
   ],
   "source": [
    "try:\n",
    "    config = ModelTrainerConfigurationManager()\n",
    "    get_model_trainer_config = config.get_model_trainer_config()\n",
    "    model_trainer = ModelTrainer(config=get_model_trainer_config)\n",
    "    model_trainer.get_train_and_test_data()\n",
    "except Exception as e:\n",
    "    raise CustomException(e,sys)"
   ]
  },
  {
   "cell_type": "code",
   "execution_count": null,
   "metadata": {},
   "outputs": [],
   "source": []
  },
  {
   "cell_type": "code",
   "execution_count": null,
   "metadata": {},
   "outputs": [],
   "source": []
  }
 ],
 "metadata": {
  "kernelspec": {
   "display_name": "Python 3",
   "language": "python",
   "name": "python3"
  },
  "language_info": {
   "codemirror_mode": {
    "name": "ipython",
    "version": 3
   },
   "file_extension": ".py",
   "mimetype": "text/x-python",
   "name": "python",
   "nbconvert_exporter": "python",
   "pygments_lexer": "ipython3",
   "version": "3.12.4"
  }
 },
 "nbformat": 4,
 "nbformat_minor": 2
}
