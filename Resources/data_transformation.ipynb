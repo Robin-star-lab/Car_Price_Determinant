{
 "cells": [
  {
   "cell_type": "code",
   "execution_count": 1,
   "metadata": {},
   "outputs": [],
   "source": [
    "import os"
   ]
  },
  {
   "cell_type": "code",
   "execution_count": 2,
   "metadata": {},
   "outputs": [
    {
     "data": {
      "text/plain": [
       "'c:\\\\Users\\\\Robin Aluma\\\\Desktop\\\\Car_Price_Pred\\\\Resources'"
      ]
     },
     "execution_count": 2,
     "metadata": {},
     "output_type": "execute_result"
    }
   ],
   "source": [
    "pwd"
   ]
  },
  {
   "cell_type": "code",
   "execution_count": 3,
   "metadata": {},
   "outputs": [],
   "source": [
    "os.chdir('../')"
   ]
  },
  {
   "cell_type": "code",
   "execution_count": 4,
   "metadata": {},
   "outputs": [],
   "source": [
    "from dataclasses import dataclass\n",
    "from pathlib import Path\n",
    "from src.Car_Price_Pred.constants import *\n",
    "import yaml\n",
    "from src.Car_Price_Pred.utils.common import read_yaml,create_directories\n",
    "import pandas as pd\n",
    "from Exceptions import CustomException\n",
    "import sys\n",
    "\n",
    "@dataclass\n",
    "class DataTransformationConfig():\n",
    "    # Data transformation configuration done here\n",
    "    root_url: Path\n",
    "    data_dir: Path\n",
    "    \n",
    "    "
   ]
  },
  {
   "cell_type": "code",
   "execution_count": 5,
   "metadata": {},
   "outputs": [],
   "source": [
    "# Defining the configuration manager\n",
    "class TransformationConfigurationManager:\n",
    "    def __init__(self, config_file_path = CONFIG_FILE_PATH,):\n",
    "        self.config = read_yaml(config_file_path)\n",
    "        \n",
    "        # creating folder\n",
    "        create_directories([self.config.Artifacts_root])\n",
    "    # Accesing the configuration manager\n",
    "    \n",
    "    def get_data_transformation_config(self)->DataTransformationConfig:\n",
    "        config = self.config.data_transformation\n",
    "        \n",
    "        create_directories([config.root_url])\n",
    "        \n",
    "        get_data_transformation_config = DataTransformationConfig(\n",
    "            root_url = config.root_url,\n",
    "            data_dir = config.data_dir\n",
    "        )\n",
    "        \n",
    "        return get_data_transformation_config"
   ]
  },
  {
   "cell_type": "code",
   "execution_count": 6,
   "metadata": {},
   "outputs": [],
   "source": [
    "from sklearn.model_selection import train_test_split\n",
    "from sklearn.preprocessing import OrdinalEncoder,StandardScaler\n",
    "from sklearn.impute import SimpleImputer\n",
    "from sklearn.compose import ColumnTransformer\n",
    "from sklearn.pipeline import Pipeline\n",
    "from sklearn.impute import KNNImputer\n",
    "import numpy as np"
   ]
  },
  {
   "cell_type": "code",
   "execution_count": 7,
   "metadata": {},
   "outputs": [
    {
     "ename": "SyntaxError",
     "evalue": "invalid syntax (2774793944.py, line 19)",
     "output_type": "error",
     "traceback": [
      "\u001b[1;36m  Cell \u001b[1;32mIn[7], line 19\u001b[1;36m\u001b[0m\n\u001b[1;33m    y_train.fillna(y_train.mean()):\u001b[0m\n\u001b[1;37m                                  ^\u001b[0m\n\u001b[1;31mSyntaxError\u001b[0m\u001b[1;31m:\u001b[0m invalid syntax\n"
     ]
    }
   ],
   "source": [
    "class DataTransformation():\n",
    "    def __init__(self,config:DataTransformationConfig):\n",
    "        self.config = config\n",
    "        \n",
    "        \n",
    "    def get_data_transformer(self):\n",
    "        taxi_data_path = self.config.data_dir\n",
    "        folder_path = self.config.root_url\n",
    "        \n",
    "        taxi_data = pd.read_csv(taxi_data_path)\n",
    "        x = taxi_data.iloc[:,0:-1]\n",
    "        y = taxi_data.iloc[:,-1]\n",
    "        \n",
    "        x_train,x_test,y_train,y_test = train_test_split(x,y,test_size=0.3,random_state=42)\n",
    "        numerical_columns = x.select_dtypes(exclude=['object']).columns\n",
    "        categorical_columns = x.select_dtypes(include=['object']).columns\n",
    "        \n",
    "\n",
    "        imputer = KNNImputer(n_neighbors=2)\n",
    "            y_train = imputer.fit_transform(y_train)\n",
    "            \n",
    "        transformer_categorical = ColumnTransformer(\n",
    "          transformers = [\n",
    "             ('categorical_pipeline', Pipeline([\n",
    "                 ('imputer', SimpleImputer(strategy='most_frequent')),\n",
    "                 ('encoder', OrdinalEncoder()),\n",
    "                ('scaler', StandardScaler())\n",
    "                 ]), categorical_columns)])\n",
    "\n",
    "        transformer_numerical = ColumnTransformer(\n",
    "          transformers = [\n",
    "             ('numerical_pipeline', Pipeline([\n",
    "                 ('imputer', SimpleImputer(strategy='median')),\n",
    "                 ('scaler', StandardScaler())\n",
    "                      ]), numerical_columns)])\n",
    "        \n",
    "        preprocessor = ColumnTransformer([\n",
    "             ('categorical', transformer_categorical, categorical_columns),\n",
    "             ('numerical', transformer_numerical, numerical_columns)])\n",
    "\n",
    "        \n",
    "        scaled_x_train = preprocessor.fit_transform(x_train)\n",
    "        scaled_x_test = preprocessor.transform(x_test)\n",
    "        \n",
    "        scaled_train_df = pd.DataFrame(scaled_x_train,columns = preprocessor.get_feature_names_out())\n",
    "        scaled_test_df = pd.DataFrame(scaled_x_test,columns = preprocessor.get_feature_names_out())\n",
    "        \n",
    "        scaled_train_array = np.c_[scaled_train_df,np.array(y_train)]\n",
    "        scaled_test_array = np.c_[scaled_test_df,np.array(y_test)]\n",
    "        \n",
    "        scaled_train = pd.DataFrame(scaled_train_array)\n",
    "        scaled_test = pd.DataFrame(scaled_test_array)\n",
    "        \n",
    "        scaled_train.to_csv(os.path.join(folder_path,'train_data.csv'),index=False)\n",
    "        scaled_test.to_csv(os.path.join(folder_path,'test_data.csv'),index=False)\n",
    "        \n",
    "    \n",
    "    "
   ]
  },
  {
   "cell_type": "code",
   "execution_count": 8,
   "metadata": {},
   "outputs": [
    {
     "name": "stdout",
     "output_type": "stream",
     "text": [
      "[ 2025-01-20 14:11:10,980 : common : INFO : Creates directory for path;artifacts in file paths :['artifacts'] ]\n",
      "[ 2025-01-20 14:11:11,064 : common : INFO : Creates directory for path;artifacts/data_transformation in file paths :['artifacts/data_transformation'] ]\n"
     ]
    }
   ],
   "source": [
    "# Trnasformation pipeline\n",
    "try:\n",
    "    config = TransformationConfigurationManager()\n",
    "    get_data_transformation_config = config.get_data_transformation_config()\n",
    "    data_transformation = DataTransformation(config=get_data_transformation_config)\n",
    "    data_transformation.get_data_transformer()\n",
    "except Exception as e:\n",
    "    raise CustomException(e,sys)"
   ]
  },
  {
   "cell_type": "code",
   "execution_count": null,
   "metadata": {},
   "outputs": [],
   "source": []
  }
 ],
 "metadata": {
  "kernelspec": {
   "display_name": "Python 3",
   "language": "python",
   "name": "python3"
  },
  "language_info": {
   "codemirror_mode": {
    "name": "ipython",
    "version": 3
   },
   "file_extension": ".py",
   "mimetype": "text/x-python",
   "name": "python",
   "nbconvert_exporter": "python",
   "pygments_lexer": "ipython3",
   "version": "3.12.4"
  }
 },
 "nbformat": 4,
 "nbformat_minor": 2
}
