{
 "cells": [
  {
   "cell_type": "code",
   "execution_count": 1,
   "metadata": {},
   "outputs": [],
   "source": [
    "import os"
   ]
  },
  {
   "cell_type": "code",
   "execution_count": 2,
   "metadata": {},
   "outputs": [
    {
     "data": {
      "text/plain": [
       "'c:\\\\Users\\\\Robin Aluma\\\\Desktop\\\\Car_Price_Pred\\\\Resources'"
      ]
     },
     "execution_count": 2,
     "metadata": {},
     "output_type": "execute_result"
    }
   ],
   "source": [
    "pwd"
   ]
  },
  {
   "cell_type": "code",
   "execution_count": 3,
   "metadata": {},
   "outputs": [],
   "source": [
    "os.chdir('../')"
   ]
  },
  {
   "cell_type": "code",
   "execution_count": 4,
   "metadata": {},
   "outputs": [],
   "source": [
    "from dataclasses import dataclass\n",
    "from pathlib import Path\n",
    "from src.Car_Price_Pred.constants import *\n",
    "import yaml\n",
    "from src.Car_Price_Pred.utils.common import read_yaml,create_directories\n",
    "import pandas as pd\n",
    "from Exceptions import CustomException\n",
    "import sys\n",
    "\n",
    "@dataclass\n",
    "class DataTransformationConfig():\n",
    "    # Data transformation configuration done here\n",
    "    root_url: Path\n",
    "    data_dir: Path\n",
    "    \n",
    "    "
   ]
  },
  {
   "cell_type": "code",
   "execution_count": 5,
   "metadata": {},
   "outputs": [],
   "source": [
    "# Defining the configuration manager\n",
    "class TransformationConfigurationManager:\n",
    "    def __init__(self, config_file_path = CONFIG_FILE_PATH,):\n",
    "        self.config = read_yaml(config_file_path)\n",
    "        \n",
    "        # creating folder\n",
    "        create_directories([self.config.Artifacts_root])\n",
    "    # Accesing the configuration manager\n",
    "    \n",
    "    def get_data_transformation_config(self)->DataTransformationConfig:\n",
    "        config = self.config.data_transformation\n",
    "        \n",
    "        create_directories([config.root_url])\n",
    "        \n",
    "        get_data_transformation_config = DataTransformationConfig(\n",
    "            root_url = config.root_url,\n",
    "            data_dir = config.data_dir\n",
    "        )\n",
    "        \n",
    "        return get_data_transformation_config"
   ]
  },
  {
   "cell_type": "code",
   "execution_count": 6,
   "metadata": {},
   "outputs": [],
   "source": [
    "from sklearn.model_selection import train_test_split\n",
    "from sklearn.preprocessing import OrdinalEncoder,StandardScaler\n",
    "from sklearn.impute import SimpleImputer\n",
    "from sklearn.compose import ColumnTransformer\n",
    "from sklearn.pipeline import Pipeline\n",
    "from sklearn.impute import KNNImputer\n",
    "import numpy as np"
   ]
  },
  {
   "cell_type": "code",
   "execution_count": 7,
   "metadata": {},
   "outputs": [],
   "source": [
    "class DataTransformation():\n",
    "    def __init__(self,config:DataTransformationConfig):\n",
    "        self.config = config\n",
    "        \n",
    "        \n",
    "    def get_data_transformer(self):\n",
    "        taxi_data_path = self.config.data_dir\n",
    "        folder_path = self.config.root_url\n",
    "        \n",
    "        taxi_data = pd.read_csv(taxi_data_path)\n",
    "        x = taxi_data.iloc[:,0:-1]\n",
    "        y = taxi_data.iloc[:,-1]\n",
    "        \n",
    "        x_train,x_test,y_train,y_test = train_test_split(x,y,test_size=0.3,random_state=42)\n",
    "        numerical_columns = x.select_dtypes(exclude=['object']).columns\n",
    "        categorical_columns = x.select_dtypes(include=['object']).columns\n",
    "        \n",
    "\n",
    "        imputer = KNNImputer(n_neighbors=2)\n",
    "        y_train = imputer.fit_transform(y_train)\n",
    "            \n",
    "        transformer_categorical = ColumnTransformer(\n",
    "          transformers = [\n",
    "             ('categorical_pipeline', Pipeline([\n",
    "                 ('imputer', SimpleImputer(strategy='most_frequent')),\n",
    "                 ('encoder', OrdinalEncoder()),\n",
    "                ('scaler', StandardScaler())\n",
    "                 ]), categorical_columns)])\n",
    "\n",
    "        transformer_numerical = ColumnTransformer(\n",
    "          transformers = [\n",
    "             ('numerical_pipeline', Pipeline([\n",
    "                 ('imputer', SimpleImputer(strategy='median')),\n",
    "                 ('scaler', StandardScaler())\n",
    "                      ]), numerical_columns)])\n",
    "        \n",
    "        preprocessor = ColumnTransformer([\n",
    "             ('categorical', transformer_categorical, categorical_columns),\n",
    "             ('numerical', transformer_numerical, numerical_columns)])\n",
    "        \n",
    "        \n",
    "        \n",
    "        \n",
    "        scaled_x_train = preprocessor.fit_transform(x_train)\n",
    "        scaled_x_test = preprocessor.transform(x_test)\n",
    "        \n",
    "        scaled_train_df = pd.DataFrame(scaled_x_train,columns = preprocessor.get_feature_names_out())\n",
    "        scaled_test_df = pd.DataFrame(scaled_x_test,columns = preprocessor.get_feature_names_out())\n",
    "        \n",
    "        scaled_train_array = np.c_[scaled_train_df,np.array(y_train)]\n",
    "        scaled_test_array = np.c_[scaled_test_df,np.array(y_test)]\n",
    "        \n",
    "        scaled_train = pd.DataFrame(scaled_train_array)\n",
    "        scaled_test = pd.DataFrame(scaled_test_array)\n",
    "        \n",
    "        scaled_train.to_csv(os.path.join(folder_path,'train_data.csv'),index=False)\n",
    "        scaled_test.to_csv(os.path.join(folder_path,'test_data.csv'),index=False)\n",
    "        \n",
    "    \n",
    "    "
   ]
  },
  {
   "cell_type": "code",
   "execution_count": 8,
   "metadata": {},
   "outputs": [
    {
     "name": "stdout",
     "output_type": "stream",
     "text": [
      "[ 2025-01-23 02:10:59,661 : common : INFO : Creates directory for path;artifacts in file paths :['artifacts'] ]\n",
      "[ 2025-01-23 02:10:59,662 : common : INFO : Creates directory for path;artifacts/data_transformation in file paths :['artifacts/data_transformation'] ]\n",
      "Unexpected exception formatting exception. Falling back to standard exception\n"
     ]
    },
    {
     "name": "stderr",
     "output_type": "stream",
     "text": [
      "Traceback (most recent call last):\n",
      "  File \"C:\\Users\\Robin Aluma\\AppData\\Local\\Temp\\ipykernel_18940\\2003774241.py\", line 6, in <module>\n",
      "    data_transformation.get_data_transformer()\n",
      "  File \"C:\\Users\\Robin Aluma\\AppData\\Local\\Temp\\ipykernel_18940\\1093487727.py\", line 20, in get_data_transformer\n",
      "    y_train = imputer.fit_transform(y_train)\n",
      "              ^^^^^^^^^^^^^^^^^^^^^^^^^^^^^^\n",
      "  File \"c:\\Users\\Robin Aluma\\Desktop\\Car_Price_Pred\\Car_price\\Lib\\site-packages\\sklearn\\utils\\_set_output.py\", line 319, in wrapped\n",
      "    data_to_wrap = f(self, X, *args, **kwargs)\n",
      "                   ^^^^^^^^^^^^^^^^^^^^^^^^^^^\n",
      "  File \"c:\\Users\\Robin Aluma\\Desktop\\Car_Price_Pred\\Car_price\\Lib\\site-packages\\sklearn\\base.py\", line 918, in fit_transform\n",
      "    return self.fit(X, **fit_params).transform(X)\n",
      "           ^^^^^^^^^^^^^^^^^^^^^^^^^\n",
      "  File \"c:\\Users\\Robin Aluma\\Desktop\\Car_Price_Pred\\Car_price\\Lib\\site-packages\\sklearn\\base.py\", line 1389, in wrapper\n",
      "    return fit_method(estimator, *args, **kwargs)\n",
      "           ^^^^^^^^^^^^^^^^^^^^^^^^^^^^^^^^^^^^^^\n",
      "  File \"c:\\Users\\Robin Aluma\\Desktop\\Car_Price_Pred\\Car_price\\Lib\\site-packages\\sklearn\\impute\\_knn.py\", line 237, in fit\n",
      "    X = validate_data(\n",
      "        ^^^^^^^^^^^^^^\n",
      "  File \"c:\\Users\\Robin Aluma\\Desktop\\Car_Price_Pred\\Car_price\\Lib\\site-packages\\sklearn\\utils\\validation.py\", line 2944, in validate_data\n",
      "    out = check_array(X, input_name=\"X\", **check_params)\n",
      "          ^^^^^^^^^^^^^^^^^^^^^^^^^^^^^^^^^^^^^^^^^^^^^^\n",
      "  File \"c:\\Users\\Robin Aluma\\Desktop\\Car_Price_Pred\\Car_price\\Lib\\site-packages\\sklearn\\utils\\validation.py\", line 1093, in check_array\n",
      "    raise ValueError(msg)\n",
      "ValueError: Expected a 2-dimensional container but got <class 'pandas.core.series.Series'> instead. Pass a DataFrame containing a single row (i.e. single sample) or a single column (i.e. single feature) instead.\n",
      "\n",
      "During handling of the above exception, another exception occurred:\n",
      "\n",
      "Traceback (most recent call last):\n",
      "  File \"C:\\Users\\Robin Aluma\\AppData\\Roaming\\Python\\Python312\\site-packages\\IPython\\core\\interactiveshell.py\", line 3577, in run_code\n",
      "    exec(code_obj, self.user_global_ns, self.user_ns)\n",
      "  File \"C:\\Users\\Robin Aluma\\AppData\\Local\\Temp\\ipykernel_18940\\2003774241.py\", line 8, in <module>\n",
      "    raise CustomException(e,sys)\n",
      "Exceptions.CustomException: Error occured in python script no [Expected a 2-dimensional container but got <class 'pandas.core.series.Series'> instead. Pass a DataFrame containing a single row (i.e. single sample) or a single column (i.e. single feature) instead.] line number [6] error message [C:\\Users\\Robin Aluma\\AppData\\Local\\Temp\\ipykernel_18940\\2003774241.py]\n",
      "\n",
      "During handling of the above exception, another exception occurred:\n",
      "\n",
      "Traceback (most recent call last):\n",
      "  File \"C:\\Users\\Robin Aluma\\AppData\\Roaming\\Python\\Python312\\site-packages\\IPython\\core\\interactiveshell.py\", line 2168, in showtraceback\n",
      "    stb = self.InteractiveTB.structured_traceback(\n",
      "          ^^^^^^^^^^^^^^^^^^^^^^^^^^^^^^^^^^^^^^^^\n",
      "  File \"C:\\Users\\Robin Aluma\\AppData\\Roaming\\Python\\Python312\\site-packages\\IPython\\core\\ultratb.py\", line 1454, in structured_traceback\n",
      "    return FormattedTB.structured_traceback(\n",
      "           ^^^^^^^^^^^^^^^^^^^^^^^^^^^^^^^^^\n",
      "  File \"C:\\Users\\Robin Aluma\\AppData\\Roaming\\Python\\Python312\\site-packages\\IPython\\core\\ultratb.py\", line 1345, in structured_traceback\n",
      "    return VerboseTB.structured_traceback(\n",
      "           ^^^^^^^^^^^^^^^^^^^^^^^^^^^^^^^\n",
      "  File \"C:\\Users\\Robin Aluma\\AppData\\Roaming\\Python\\Python312\\site-packages\\IPython\\core\\ultratb.py\", line 1192, in structured_traceback\n",
      "    formatted_exception = self.format_exception_as_a_whole(etype, evalue, etb, number_of_lines_of_context,\n",
      "                          ^^^^^^^^^^^^^^^^^^^^^^^^^^^^^^^^^^^^^^^^^^^^^^^^^^^^^^^^^^^^^^^^^^^^^^^^^^^^^^^^\n",
      "  File \"C:\\Users\\Robin Aluma\\AppData\\Roaming\\Python\\Python312\\site-packages\\IPython\\core\\ultratb.py\", line 1107, in format_exception_as_a_whole\n",
      "    frames.append(self.format_record(record))\n",
      "                  ^^^^^^^^^^^^^^^^^^^^^^^^^^\n",
      "  File \"C:\\Users\\Robin Aluma\\AppData\\Roaming\\Python\\Python312\\site-packages\\IPython\\core\\ultratb.py\", line 989, in format_record\n",
      "    frame_info.lines, Colors, self.has_colors, lvals\n",
      "    ^^^^^^^^^^^^^^^^\n",
      "  File \"C:\\Users\\Robin Aluma\\AppData\\Roaming\\Python\\Python312\\site-packages\\IPython\\core\\ultratb.py\", line 801, in lines\n",
      "    return self._sd.lines\n",
      "           ^^^^^^^^^^^^^^\n",
      "  File \"C:\\Users\\Robin Aluma\\AppData\\Roaming\\Python\\Python312\\site-packages\\stack_data\\utils.py\", line 145, in cached_property_wrapper\n",
      "    value = obj.__dict__[self.func.__name__] = self.func(obj)\n",
      "                                               ^^^^^^^^^^^^^^\n",
      "  File \"C:\\Users\\Robin Aluma\\AppData\\Roaming\\Python\\Python312\\site-packages\\stack_data\\core.py\", line 734, in lines\n",
      "    pieces = self.included_pieces\n",
      "             ^^^^^^^^^^^^^^^^^^^^\n",
      "  File \"C:\\Users\\Robin Aluma\\AppData\\Roaming\\Python\\Python312\\site-packages\\stack_data\\utils.py\", line 145, in cached_property_wrapper\n",
      "    value = obj.__dict__[self.func.__name__] = self.func(obj)\n",
      "                                               ^^^^^^^^^^^^^^\n",
      "  File \"C:\\Users\\Robin Aluma\\AppData\\Roaming\\Python\\Python312\\site-packages\\stack_data\\core.py\", line 677, in included_pieces\n",
      "    scope_pieces = self.scope_pieces\n",
      "                   ^^^^^^^^^^^^^^^^^\n",
      "  File \"C:\\Users\\Robin Aluma\\AppData\\Roaming\\Python\\Python312\\site-packages\\stack_data\\utils.py\", line 145, in cached_property_wrapper\n",
      "    value = obj.__dict__[self.func.__name__] = self.func(obj)\n",
      "                                               ^^^^^^^^^^^^^^\n",
      "  File \"C:\\Users\\Robin Aluma\\AppData\\Roaming\\Python\\Python312\\site-packages\\stack_data\\core.py\", line 614, in scope_pieces\n",
      "    scope_start, scope_end = self.source.line_range(self.scope)\n",
      "                             ^^^^^^^^^^^^^^^^^^^^^^^^^^^^^^^^^^\n",
      "  File \"C:\\Users\\Robin Aluma\\AppData\\Roaming\\Python\\Python312\\site-packages\\stack_data\\core.py\", line 178, in line_range\n",
      "    return line_range(self.asttext(), node)\n",
      "                      ^^^^^^^^^^^^\n",
      "AttributeError: 'Source' object has no attribute 'asttext'\n"
     ]
    }
   ],
   "source": [
    "# Trnasformation pipeline\n",
    "try:\n",
    "    config = TransformationConfigurationManager()\n",
    "    get_data_transformation_config = config.get_data_transformation_config()\n",
    "    data_transformation = DataTransformation(config=get_data_transformation_config)\n",
    "    data_transformation.get_data_transformer()\n",
    "except Exception as e:\n",
    "    raise CustomException(e,sys)"
   ]
  },
  {
   "cell_type": "code",
   "execution_count": null,
   "metadata": {},
   "outputs": [],
   "source": []
  }
 ],
 "metadata": {
  "kernelspec": {
   "display_name": "Python 3",
   "language": "python",
   "name": "python3"
  },
  "language_info": {
   "codemirror_mode": {
    "name": "ipython",
    "version": 3
   },
   "file_extension": ".py",
   "mimetype": "text/x-python",
   "name": "python",
   "nbconvert_exporter": "python",
   "pygments_lexer": "ipython3",
   "version": "3.12.4"
  }
 },
 "nbformat": 4,
 "nbformat_minor": 2
}
