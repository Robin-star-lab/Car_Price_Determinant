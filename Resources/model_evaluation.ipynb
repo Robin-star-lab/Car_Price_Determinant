{
 "cells": [
  {
   "cell_type": "code",
   "execution_count": 1,
   "metadata": {},
   "outputs": [],
   "source": [
    "import os"
   ]
  },
  {
   "cell_type": "code",
   "execution_count": 2,
   "metadata": {},
   "outputs": [
    {
     "data": {
      "text/plain": [
       "'c:\\\\Users\\\\Robin Aluma\\\\Desktop\\\\Car_Price_Pred\\\\Resources'"
      ]
     },
     "execution_count": 2,
     "metadata": {},
     "output_type": "execute_result"
    }
   ],
   "source": [
    "pwd\n"
   ]
  },
  {
   "cell_type": "code",
   "execution_count": 3,
   "metadata": {},
   "outputs": [],
   "source": [
    "os.chdir('../')"
   ]
  },
  {
   "cell_type": "code",
   "execution_count": 4,
   "metadata": {},
   "outputs": [
    {
     "data": {
      "text/plain": [
       "'c:\\\\Users\\\\Robin Aluma\\\\Desktop\\\\Car_Price_Pred'"
      ]
     },
     "execution_count": 4,
     "metadata": {},
     "output_type": "execute_result"
    }
   ],
   "source": [
    "pwd\n"
   ]
  },
  {
   "cell_type": "code",
   "execution_count": 5,
   "metadata": {},
   "outputs": [],
   "source": [
    "\n",
    "from sklearn.metrics import r2_score,mean_squared_error,mean_absolute_error\n",
    "import numpy as np\n",
    "import sys\n",
    "import pandas as pd"
   ]
  },
  {
   "cell_type": "code",
   "execution_count": 6,
   "metadata": {},
   "outputs": [],
   "source": [
    "\n",
    "from src.Car_Price_Pred.utils.common import load_models,load_parameters,read_yaml,create_directories\n",
    "from dataclasses import dataclass\n",
    "from pathlib import Path\n",
    "from src.Car_Price_Pred.constants import *\n",
    "from sklearn.model_selection import train_test_split\n",
    "from Exceptions import CustomException"
   ]
  },
  {
   "cell_type": "code",
   "execution_count": 7,
   "metadata": {},
   "outputs": [],
   "source": [
    "@dataclass\n",
    "class ModelEvaluationConfig():\n",
    "    root_url: Path\n",
    "    evaluation_data: Path\n",
    "    best_model_path: Path\n",
    "    decision_tree: str\n",
    "    lasso: str\n",
    "    linear_regression: str\n",
    "    neighbors: str\n",
    "    svm: str\n",
    "    random_forest: str\n",
    "    "
   ]
  },
  {
   "cell_type": "code",
   "execution_count": 8,
   "metadata": {},
   "outputs": [],
   "source": [
    "class ModelEvaluationConfigurationManager:\n",
    "    def __init__(self, config_file_path = CONFIG_FILE_PATH):\n",
    "        self.config = read_yaml(config_file_path)\n",
    "        \n",
    "        create_directories([self.config.Artifacts_root])\n",
    "        \n",
    "    def get_model_evaluation_config(self)->ModelEvaluationConfig:\n",
    "        config = self.config.model_evaluation\n",
    "        \n",
    "        create_directories([config.root_url])\n",
    "        model_evaluation_config = ModelEvaluationConfig(\n",
    "            root_url = config.root_url,\n",
    "            evaluation_data = config.evaluation_data,\n",
    "            best_model_path = config.best_model_path,\n",
    "            decision_tree = config.decision_tree,\n",
    "            lasso = config.lasso,\n",
    "            linear_regression = config.linear_regression,\n",
    "            neighbors = config.neighbors,\n",
    "            svm = config.svm,\n",
    "            random_forest = config.random_forest\n",
    "        )\n",
    "        \n",
    "        return model_evaluation_config\n",
    "    "
   ]
  },
  {
   "cell_type": "code",
   "execution_count": 9,
   "metadata": {},
   "outputs": [],
   "source": [
    "class ModelEvaluation():\n",
    "    def __init__(self, config = ModelEvaluationConfig):\n",
    "        self.config = config\n",
    "        \n",
    "    def get_xy_testdata(self):\n",
    "        test_data = pd.read_csv(self.config.evaluation_data)\n",
    "        \n",
    "        test_data.fillna(test_data.mean(),inplace=True)\n",
    "        \n",
    "        self.x_test = test_data.iloc[:,:-1]\n",
    "        self.y_test = test_data.iloc[:,-1]\n",
    "        \n",
    "        models = [\n",
    "            load_models(self.config.decision_tree),\n",
    "            load_models(self.config.lasso),\n",
    "            load_models(self.config.linear_regression),\n",
    "            load_models(self.config.neighbors),\n",
    "            load_models(self.config.svm),\n",
    "            load_models(self.config.random_forest)]\n",
    "        \n",
    "        for model in models:\n",
    "            self.y_predict = model.predict(self.x_test)\n",
    "            \n",
    "    def calculate_metrics(self):\n",
    "        y_true = self.y_test\n",
    "        y_pred = self.y_predict\n",
    "        \n",
    "        r_score = r2_score(y_true,y_pred)\n",
    "        mae = mean_absolute_error(y_true,y_pred)\n",
    "        mse = mean_squared_error(y_true,y_pred)\n",
    "        rmse = np.sqrt(mse)\n",
    "        \n",
    "        \n",
    "        print(f\"r2_score:====={r_score}=====\")\n",
    "        print(f\"mean_absolute_error:====={mae}====\")\n",
    "        print(f\"mean_squared_error:====={mse}====\")\n",
    "        print(f\"root_mean_squared_error:====={rmse}=====\")\n",
    "        \n",
    "        "
   ]
  },
  {
   "cell_type": "code",
   "execution_count": 10,
   "metadata": {},
   "outputs": [],
   "source": [
    "class ModelEvaluationPipeline:\n",
    "    def __init__(self):\n",
    "        pass\n",
    "    def main(self):\n",
    "        try:\n",
    "            \n",
    "            config = ModelEvaluationConfigurationManager()\n",
    "            get_model_evaluation_config = config.get_model_evaluation_config()\n",
    "            model_evaluation = ModelEvaluation(config = get_model_evaluation_config)\n",
    "            model_evaluation.get_xy_testdata()\n",
    "            model_evaluation.calculate_metrics()\n",
    "        except Exception as e:\n",
    "            \n",
    "            raise CustomException(e,sys)\n",
    "        "
   ]
  },
  {
   "cell_type": "code",
   "execution_count": 11,
   "metadata": {},
   "outputs": [
    {
     "name": "stdout",
     "output_type": "stream",
     "text": [
      "[ 2025-01-22 10:50:42,565 : common : INFO : Creates directory for path;artifacts in file paths :['artifacts'] ]\n",
      "[ 2025-01-22 10:50:42,567 : common : INFO : Creates directory for path;artifacts/model_evaluation in file paths :['artifacts/model_evaluation'] ]\n",
      "r2_score:=====0.9076820780777544=====\n",
      "mean_absolute_error:=====6.307357249457032====\n",
      "mean_squared_error:=====120.15825005990713====\n",
      "root_mean_squared_error:=====10.961671864269023=====\n"
     ]
    },
    {
     "name": "stderr",
     "output_type": "stream",
     "text": [
      "c:\\Users\\Robin Aluma\\Desktop\\Car_Price_Pred\\Car_price\\Lib\\site-packages\\sklearn\\utils\\validation.py:2732: UserWarning: X has feature names, but DecisionTreeRegressor was fitted without feature names\n",
      "  warnings.warn(\n",
      "c:\\Users\\Robin Aluma\\Desktop\\Car_Price_Pred\\Car_price\\Lib\\site-packages\\sklearn\\utils\\validation.py:2732: UserWarning: X has feature names, but Lasso was fitted without feature names\n",
      "  warnings.warn(\n",
      "c:\\Users\\Robin Aluma\\Desktop\\Car_Price_Pred\\Car_price\\Lib\\site-packages\\sklearn\\utils\\validation.py:2732: UserWarning: X has feature names, but LinearRegression was fitted without feature names\n",
      "  warnings.warn(\n",
      "c:\\Users\\Robin Aluma\\Desktop\\Car_Price_Pred\\Car_price\\Lib\\site-packages\\sklearn\\utils\\validation.py:2732: UserWarning: X has feature names, but KNeighborsRegressor was fitted without feature names\n",
      "  warnings.warn(\n",
      "c:\\Users\\Robin Aluma\\Desktop\\Car_Price_Pred\\Car_price\\Lib\\site-packages\\sklearn\\utils\\validation.py:2732: UserWarning: X has feature names, but SVR was fitted without feature names\n",
      "  warnings.warn(\n",
      "c:\\Users\\Robin Aluma\\Desktop\\Car_Price_Pred\\Car_price\\Lib\\site-packages\\sklearn\\utils\\validation.py:2732: UserWarning: X has feature names, but RandomForestRegressor was fitted without feature names\n",
      "  warnings.warn(\n"
     ]
    }
   ],
   "source": [
    "if __name__ == '__main__':\n",
    "    try:\n",
    "        obj = ModelEvaluationPipeline()\n",
    "        obj.main()\n",
    "    except Exception as e:\n",
    "        raise CustomException(e,sys)"
   ]
  },
  {
   "cell_type": "code",
   "execution_count": null,
   "metadata": {},
   "outputs": [],
   "source": []
  }
 ],
 "metadata": {
  "kernelspec": {
   "display_name": "Python 3",
   "language": "python",
   "name": "python3"
  },
  "language_info": {
   "codemirror_mode": {
    "name": "ipython",
    "version": 3
   },
   "file_extension": ".py",
   "mimetype": "text/x-python",
   "name": "python",
   "nbconvert_exporter": "python",
   "pygments_lexer": "ipython3",
   "version": "3.12.4"
  }
 },
 "nbformat": 4,
 "nbformat_minor": 2
}
