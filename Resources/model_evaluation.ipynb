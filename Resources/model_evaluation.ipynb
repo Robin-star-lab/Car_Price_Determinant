{
 "cells": [
  {
   "cell_type": "code",
   "execution_count": 1,
   "metadata": {},
   "outputs": [],
   "source": [
    "import os"
   ]
  },
  {
   "cell_type": "code",
   "execution_count": 2,
   "metadata": {},
   "outputs": [
    {
     "data": {
      "text/plain": [
       "'c:\\\\Users\\\\Robin Aluma\\\\Desktop\\\\Car_Price_Pred\\\\Resources'"
      ]
     },
     "execution_count": 2,
     "metadata": {},
     "output_type": "execute_result"
    }
   ],
   "source": [
    "pwd\n"
   ]
  },
  {
   "cell_type": "code",
   "execution_count": 3,
   "metadata": {},
   "outputs": [],
   "source": [
    "os.chdir('../')"
   ]
  },
  {
   "cell_type": "code",
   "execution_count": 4,
   "metadata": {},
   "outputs": [
    {
     "data": {
      "text/plain": [
       "'c:\\\\Users\\\\Robin Aluma\\\\Desktop\\\\Car_Price_Pred'"
      ]
     },
     "execution_count": 4,
     "metadata": {},
     "output_type": "execute_result"
    }
   ],
   "source": [
    "pwd\n"
   ]
  },
  {
   "cell_type": "code",
   "execution_count": 5,
   "metadata": {},
   "outputs": [],
   "source": [
    "\n",
    "from sklearn.metrics import r2_score,mean_squared_error,mean_absolute_error\n",
    "import numpy as np\n",
    "import sys\n",
    "import pandas as pd"
   ]
  },
  {
   "cell_type": "code",
   "execution_count": 6,
   "metadata": {},
   "outputs": [],
   "source": [
    "\n",
    "from src.Car_Price_Pred.utils.common import load_models,load_parameters,read_yaml,create_directories\n",
    "from dataclasses import dataclass\n",
    "from pathlib import Path\n",
    "from src.Car_Price_Pred.constants import *\n",
    "from sklearn.model_selection import train_test_split\n",
    "from Exceptions import CustomException"
   ]
  },
  {
   "cell_type": "code",
   "execution_count": 7,
   "metadata": {},
   "outputs": [],
   "source": [
    "@dataclass\n",
    "class ModelEvaluationConfig():\n",
    "    root_url: Path\n",
    "    evaluation_data: Path\n",
    "    best_model_path: Path\n",
    "    decision_tree: str\n",
    "    lasso: str\n",
    "    linear_regression: str\n",
    "    neighbors: str\n",
    "    svm: str\n",
    "    random_forest: str\n",
    "    "
   ]
  },
  {
   "cell_type": "code",
   "execution_count": 8,
   "metadata": {},
   "outputs": [],
   "source": [
    "class ModelEvaluationConfigurationManager:\n",
    "    def __init__(self, config_file_path = CONFIG_FILE_PATH):\n",
    "        self.config = read_yaml(config_file_path)\n",
    "        \n",
    "        create_directories([self.config.Artifacts_root])\n",
    "        \n",
    "    def get_model_evaluation_config(self)->ModelEvaluationConfig:\n",
    "        config = self.config.model_evaluation\n",
    "        \n",
    "        create_directories([config.root_url])\n",
    "        model_evaluation_config = ModelEvaluationConfig(\n",
    "            root_url = config.root_url,\n",
    "            evaluation_data = config.evaluation_data,\n",
    "            best_model_path = config.best_model_path,\n",
    "            decision_tree = config.decision_tree,\n",
    "            lasso = config.lasso,\n",
    "            linear_regression = config.linear_regression,\n",
    "            neighbors = config.neighbors,\n",
    "            svm = config.svm,\n",
    "            random_forest = config.random_forest\n",
    "        )\n",
    "        \n",
    "        return model_evaluation_config\n",
    "    "
   ]
  },
  {
   "cell_type": "code",
   "execution_count": 9,
   "metadata": {},
   "outputs": [],
   "source": [
    "class ModelEvaluation():\n",
    "    def __init__(self, config = ModelEvaluationConfig):\n",
    "        self.config = config\n",
    "        \n",
    "    @property\n",
    "    def get_evaluation_data(self):\n",
    "        test_data = pd.read_csv(self.config.evaluation_data)\n",
    "        x = test_data.iloc[:,:-1]\n",
    "        y = test_data.iloc[:,-1]\n",
    "        x_train,x_test,y_train,y_test = train_test_split(x,y,test_size=0.3,random_state=42)\n",
    "        \n",
    "        \n",
    "    @property\n",
    "    def evaluate_model(self):\n",
    "        x_train = self.x_train\n",
    "        y_test = self.y_test\n",
    "        x_test = self.x_text\n",
    "        \n",
    "      # Then use them in evaluation\n",
    "    \n",
    "        \n",
    "         \n",
    "        models = [\n",
    "            load_models(self.config.decission_tree),\n",
    "            load_models(self.config.lasso),\n",
    "            load_models(self.config.linear_regression),\n",
    "            load_models(self.config.neigbors),\n",
    "            load_models(self.config.svm),\n",
    "            load_models(self.config.random_forest)]\n",
    "        \n",
    "        for model in models:\n",
    "            y_predict = model.predict(x_test)\n",
    "            y_true = y_test\n",
    "        \n",
    "            return y_predict, y_true\n",
    "        \n",
    "    def calculate_metrics(self,y_true, y_pred):\n",
    "        self.y_true = evaluation_model(y_true)\n",
    "        self.y_pred = evaluate_models(y_pred)\n",
    "        \n",
    "        r_score = r2_score(self.y_true, self.y_pred)\n",
    "        mae = mean_absolute_error(self.y_true, self.y_pred)\n",
    "        mse = mean_squared_error(self.y_true, self.y_pred)\n",
    "        rmse = np.sqrt(mse)\n",
    "        \n",
    "        return r_score,mae,mse,rmse"
   ]
  },
  {
   "cell_type": "code",
   "execution_count": 10,
   "metadata": {},
   "outputs": [],
   "source": [
    "class ModelEvaluationPipeline:\n",
    "    def __init__(self):\n",
    "        pass\n",
    "    def main(self):\n",
    "        try:\n",
    "            \n",
    "            config = ModelEvaluationConfigurationManager()\n",
    "            get_model_evaluation_config = config.get_model_evaluation_config()\n",
    "            model_evaluation = ModelEvaluation(config = get_model_evaluation_config)\n",
    "        \n",
    "            # First store the evaluation data\n",
    "            evaluation_data = model_evaluation.get_evaluation_data()\n",
    "        \n",
    "            # Then use the stored data for evaluation\n",
    "            model_evaluation.evaluate_model()\n",
    "            model_evaluation.calculate_metric()\n",
    "        except Exception as e:\n",
    "            \n",
    "            raise CustomException(e,sys)\n",
    "        "
   ]
  },
  {
   "cell_type": "code",
   "execution_count": 11,
   "metadata": {},
   "outputs": [
    {
     "name": "stdout",
     "output_type": "stream",
     "text": [
      "[ 2025-01-21 06:04:26,982 : common : INFO : Creates directory for path;artifacts in file paths :['artifacts'] ]\n",
      "[ 2025-01-21 06:04:26,983 : common : INFO : Creates directory for path;artifacts/model_evaluation in file paths :['artifacts/model_evaluation'] ]\n",
      "Unexpected exception formatting exception. Falling back to standard exception\n"
     ]
    },
    {
     "name": "stderr",
     "output_type": "stream",
     "text": [
      "Traceback (most recent call last):\n",
      "  File \"C:\\Users\\Robin Aluma\\AppData\\Local\\Temp\\ipykernel_13152\\3695319764.py\", line 12, in main\n",
      "    evaluation_data = model_evaluation.get_evaluation_data()\n",
      "                      ^^^^^^^^^^^^^^^^^^^^^^^^^^^^^^^^^^^^^^\n",
      "TypeError: 'NoneType' object is not callable\n",
      "\n",
      "During handling of the above exception, another exception occurred:\n",
      "\n",
      "Traceback (most recent call last):\n",
      "  File \"C:\\Users\\Robin Aluma\\AppData\\Local\\Temp\\ipykernel_13152\\2051446063.py\", line 4, in <module>\n",
      "    obj.main()\n",
      "  File \"C:\\Users\\Robin Aluma\\AppData\\Local\\Temp\\ipykernel_13152\\3695319764.py\", line 19, in main\n",
      "    raise CustomException(e,sys)\n",
      "Exceptions.CustomException: Error occured in python script no ['NoneType' object is not callable] line number [12] error message [C:\\Users\\Robin Aluma\\AppData\\Local\\Temp\\ipykernel_13152\\3695319764.py]\n",
      "\n",
      "During handling of the above exception, another exception occurred:\n",
      "\n",
      "Traceback (most recent call last):\n",
      "  File \"C:\\Users\\Robin Aluma\\AppData\\Roaming\\Python\\Python312\\site-packages\\IPython\\core\\interactiveshell.py\", line 3577, in run_code\n",
      "    exec(code_obj, self.user_global_ns, self.user_ns)\n",
      "  File \"C:\\Users\\Robin Aluma\\AppData\\Local\\Temp\\ipykernel_13152\\2051446063.py\", line 6, in <module>\n",
      "    raise CustomException(e,sys)\n",
      "Exceptions.CustomException: Error occured in python script no [Error occured in python script no ['NoneType' object is not callable] line number [12] error message [C:\\Users\\Robin Aluma\\AppData\\Local\\Temp\\ipykernel_13152\\3695319764.py]] line number [4] error message [C:\\Users\\Robin Aluma\\AppData\\Local\\Temp\\ipykernel_13152\\2051446063.py]\n",
      "\n",
      "During handling of the above exception, another exception occurred:\n",
      "\n",
      "Traceback (most recent call last):\n",
      "  File \"C:\\Users\\Robin Aluma\\AppData\\Roaming\\Python\\Python312\\site-packages\\IPython\\core\\interactiveshell.py\", line 2168, in showtraceback\n",
      "    stb = self.InteractiveTB.structured_traceback(\n",
      "          ^^^^^^^^^^^^^^^^^^^^^^^^^^^^^^^^^^^^^^^^\n",
      "  File \"C:\\Users\\Robin Aluma\\AppData\\Roaming\\Python\\Python312\\site-packages\\IPython\\core\\ultratb.py\", line 1454, in structured_traceback\n",
      "    return FormattedTB.structured_traceback(\n",
      "           ^^^^^^^^^^^^^^^^^^^^^^^^^^^^^^^^^\n",
      "  File \"C:\\Users\\Robin Aluma\\AppData\\Roaming\\Python\\Python312\\site-packages\\IPython\\core\\ultratb.py\", line 1345, in structured_traceback\n",
      "    return VerboseTB.structured_traceback(\n",
      "           ^^^^^^^^^^^^^^^^^^^^^^^^^^^^^^^\n",
      "  File \"C:\\Users\\Robin Aluma\\AppData\\Roaming\\Python\\Python312\\site-packages\\IPython\\core\\ultratb.py\", line 1192, in structured_traceback\n",
      "    formatted_exception = self.format_exception_as_a_whole(etype, evalue, etb, number_of_lines_of_context,\n",
      "                          ^^^^^^^^^^^^^^^^^^^^^^^^^^^^^^^^^^^^^^^^^^^^^^^^^^^^^^^^^^^^^^^^^^^^^^^^^^^^^^^^\n",
      "  File \"C:\\Users\\Robin Aluma\\AppData\\Roaming\\Python\\Python312\\site-packages\\IPython\\core\\ultratb.py\", line 1107, in format_exception_as_a_whole\n",
      "    frames.append(self.format_record(record))\n",
      "                  ^^^^^^^^^^^^^^^^^^^^^^^^^^\n",
      "  File \"C:\\Users\\Robin Aluma\\AppData\\Roaming\\Python\\Python312\\site-packages\\IPython\\core\\ultratb.py\", line 989, in format_record\n",
      "    frame_info.lines, Colors, self.has_colors, lvals\n",
      "    ^^^^^^^^^^^^^^^^\n",
      "  File \"C:\\Users\\Robin Aluma\\AppData\\Roaming\\Python\\Python312\\site-packages\\IPython\\core\\ultratb.py\", line 801, in lines\n",
      "    return self._sd.lines\n",
      "           ^^^^^^^^^^^^^^\n",
      "  File \"C:\\Users\\Robin Aluma\\AppData\\Roaming\\Python\\Python312\\site-packages\\stack_data\\utils.py\", line 145, in cached_property_wrapper\n",
      "    value = obj.__dict__[self.func.__name__] = self.func(obj)\n",
      "                                               ^^^^^^^^^^^^^^\n",
      "  File \"C:\\Users\\Robin Aluma\\AppData\\Roaming\\Python\\Python312\\site-packages\\stack_data\\core.py\", line 734, in lines\n",
      "    pieces = self.included_pieces\n",
      "             ^^^^^^^^^^^^^^^^^^^^\n",
      "  File \"C:\\Users\\Robin Aluma\\AppData\\Roaming\\Python\\Python312\\site-packages\\stack_data\\utils.py\", line 145, in cached_property_wrapper\n",
      "    value = obj.__dict__[self.func.__name__] = self.func(obj)\n",
      "                                               ^^^^^^^^^^^^^^\n",
      "  File \"C:\\Users\\Robin Aluma\\AppData\\Roaming\\Python\\Python312\\site-packages\\stack_data\\core.py\", line 677, in included_pieces\n",
      "    scope_pieces = self.scope_pieces\n",
      "                   ^^^^^^^^^^^^^^^^^\n",
      "  File \"C:\\Users\\Robin Aluma\\AppData\\Roaming\\Python\\Python312\\site-packages\\stack_data\\utils.py\", line 145, in cached_property_wrapper\n",
      "    value = obj.__dict__[self.func.__name__] = self.func(obj)\n",
      "                                               ^^^^^^^^^^^^^^\n",
      "  File \"C:\\Users\\Robin Aluma\\AppData\\Roaming\\Python\\Python312\\site-packages\\stack_data\\core.py\", line 614, in scope_pieces\n",
      "    scope_start, scope_end = self.source.line_range(self.scope)\n",
      "                             ^^^^^^^^^^^^^^^^^^^^^^^^^^^^^^^^^^\n",
      "  File \"C:\\Users\\Robin Aluma\\AppData\\Roaming\\Python\\Python312\\site-packages\\stack_data\\core.py\", line 178, in line_range\n",
      "    return line_range(self.asttext(), node)\n",
      "                      ^^^^^^^^^^^^\n",
      "AttributeError: 'Source' object has no attribute 'asttext'\n"
     ]
    }
   ],
   "source": [
    "if __name__ == '__main__':\n",
    "    try:\n",
    "        obj = ModelEvaluationPipeline()\n",
    "        obj.main()\n",
    "    except Exception as e:\n",
    "        raise CustomException(e,sys)"
   ]
  },
  {
   "cell_type": "code",
   "execution_count": null,
   "metadata": {},
   "outputs": [],
   "source": []
  }
 ],
 "metadata": {
  "kernelspec": {
   "display_name": "Python 3",
   "language": "python",
   "name": "python3"
  },
  "language_info": {
   "codemirror_mode": {
    "name": "ipython",
    "version": 3
   },
   "file_extension": ".py",
   "mimetype": "text/x-python",
   "name": "python",
   "nbconvert_exporter": "python",
   "pygments_lexer": "ipython3",
   "version": "3.12.4"
  }
 },
 "nbformat": 4,
 "nbformat_minor": 2
}
