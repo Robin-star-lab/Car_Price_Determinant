{
 "cells": [
  {
   "cell_type": "code",
   "execution_count": 1,
   "metadata": {},
   "outputs": [],
   "source": [
    "import os"
   ]
  },
  {
   "cell_type": "code",
   "execution_count": 2,
   "metadata": {},
   "outputs": [
    {
     "data": {
      "text/plain": [
       "'c:\\\\Users\\\\Robin Aluma\\\\Desktop\\\\Car_Price_Pred\\\\Resources'"
      ]
     },
     "execution_count": 2,
     "metadata": {},
     "output_type": "execute_result"
    }
   ],
   "source": [
    "pwd\n"
   ]
  },
  {
   "cell_type": "code",
   "execution_count": 3,
   "metadata": {},
   "outputs": [],
   "source": [
    "os.chdir('../')"
   ]
  },
  {
   "cell_type": "code",
   "execution_count": 4,
   "metadata": {},
   "outputs": [
    {
     "data": {
      "text/plain": [
       "'c:\\\\Users\\\\Robin Aluma\\\\Desktop\\\\Car_Price_Pred'"
      ]
     },
     "execution_count": 4,
     "metadata": {},
     "output_type": "execute_result"
    }
   ],
   "source": [
    "pwd\n"
   ]
  },
  {
   "cell_type": "code",
   "execution_count": 5,
   "metadata": {},
   "outputs": [],
   "source": [
    "\n",
    "from sklearn.metrics import r2_score,mean_squared_error,mean_absolute_error\n",
    "import numpy as np\n",
    "import sys\n",
    "import pandas as pd"
   ]
  },
  {
   "cell_type": "code",
   "execution_count": 6,
   "metadata": {},
   "outputs": [],
   "source": [
    "\n",
    "from src.Car_Price_Pred.utils.common import load_models,load_parameters,read_yaml,create_directories,save_best_model\n",
    "from dataclasses import dataclass\n",
    "from pathlib import Path\n",
    "from src.Car_Price_Pred.constants import *\n",
    "from sklearn.model_selection import train_test_split\n",
    "from Exceptions import CustomException"
   ]
  },
  {
   "cell_type": "code",
   "execution_count": 7,
   "metadata": {},
   "outputs": [],
   "source": [
    "@dataclass\n",
    "class ModelEvaluationConfig():\n",
    "    root_url: Path\n",
    "    evaluation_data: Path\n",
    "    best_model_path: Path\n",
    "    decision_tree: str\n",
    "    lasso: str\n",
    "    linear_regression: str\n",
    "    neighbors: str\n",
    "    svm: str\n",
    "    random_forest: str\n",
    "    "
   ]
  },
  {
   "cell_type": "code",
   "execution_count": 8,
   "metadata": {},
   "outputs": [],
   "source": [
    "class ModelEvaluationConfigurationManager:\n",
    "    def __init__(self, config_file_path = CONFIG_FILE_PATH):\n",
    "        self.config = read_yaml(config_file_path)\n",
    "        \n",
    "        create_directories([self.config.Artifacts_root])\n",
    "        \n",
    "    def get_model_evaluation_config(self)->ModelEvaluationConfig:\n",
    "        config = self.config.model_evaluation\n",
    "        \n",
    "        create_directories([config.root_url])\n",
    "        model_evaluation_config = ModelEvaluationConfig(\n",
    "            root_url = config.root_url,\n",
    "            evaluation_data = config.evaluation_data,\n",
    "            best_model_path = config.best_model_path,\n",
    "            decision_tree = config.decision_tree,\n",
    "            lasso = config.lasso,\n",
    "            linear_regression = config.linear_regression,\n",
    "            neighbors = config.neighbors,\n",
    "            svm = config.svm,\n",
    "            random_forest = config.random_forest\n",
    "        )\n",
    "        \n",
    "        return model_evaluation_config\n",
    "    "
   ]
  },
  {
   "cell_type": "code",
   "execution_count": 9,
   "metadata": {},
   "outputs": [],
   "source": [
    "class ModelEvaluation():\n",
    "    def __init__(self, config = ModelEvaluationConfig):\n",
    "        self.config = config\n",
    "        \n",
    "    def evaluate_model(self):\n",
    "        test_data = pd.read_csv(self.config.evaluation_data)\n",
    "        \n",
    "        test_data.fillna(test_data.mean(),inplace=True)\n",
    "        \n",
    "        self.x_test = test_data.iloc[:,:-1]\n",
    "        self.y_test = test_data.iloc[:,-1]\n",
    "        x_train,x_test,y_train,y_test = train_test_split(self.x_test,self.y_test,test_size=0.3,random_state=42)\n",
    "        \n",
    "        models = [\n",
    "            load_models(self.config.decision_tree),\n",
    "            load_models(self.config.lasso),\n",
    "            load_models(self.config.linear_regression),\n",
    "            load_models(self.config.neighbors),\n",
    "            load_models(self.config.svm),\n",
    "            load_models(self.config.random_forest)]\n",
    "        \n",
    "        best_model = None\n",
    "        best_score = 0\n",
    "        \n",
    "        for model in models:\n",
    "            model.fit(x_train,y_train)\n",
    "            self.y_predict = model.predict(x_test)\n",
    "            score = r2_score(y_test,self.y_predict)\n",
    "            if score > best_score:\n",
    "                best_model = model\n",
    "                best_score = score\n",
    "        \n",
    "        save_best_model(best_model,os.path.join(self.config.best_model_path,f\"{best_model}_.joblib\"))\n",
    "        "
   ]
  },
  {
   "cell_type": "code",
   "execution_count": null,
   "metadata": {},
   "outputs": [],
   "source": [
    "class ModelEvaluationPipeline():\n",
    "    def __init__(self):\n",
    "        pass\n",
    "    def main(self):\n",
    "        try:\n",
    "            config = ModelEvaluationConfigurationManager()\n",
    "            get_model_evaluation_config = config.get_model_evaluation_config()\n",
    "            model_evaluation = ModelEvaluation(config=get_model_evaluation_config)\n",
    "            model_evaluation.evaluate_model()\n",
    "        except Exception as e:\n",
    "            raise CustomException(e,sys)"
   ]
  },
  {
   "cell_type": "code",
   "execution_count": 11,
   "metadata": {},
   "outputs": [
    {
     "name": "stdout",
     "output_type": "stream",
     "text": [
      "[ 2025-01-22 12:43:34,901 : common : INFO : Creates directory for path;artifacts in file paths :['artifacts'] ]\n",
      "[ 2025-01-22 12:43:34,903 : common : INFO : Creates directory for path;artifacts/model_evaluation in file paths :['artifacts/model_evaluation'] ]\n"
     ]
    }
   ],
   "source": [
    "if __name__ == '__main__':\n",
    "    try:\n",
    "        obj = ModelEvaluationPipeline()\n",
    "        obj.main()\n",
    "    except Exception as e:\n",
    "        raise CustomException(e,sys)"
   ]
  },
  {
   "cell_type": "code",
   "execution_count": null,
   "metadata": {},
   "outputs": [],
   "source": []
  }
 ],
 "metadata": {
  "kernelspec": {
   "display_name": "Python 3",
   "language": "python",
   "name": "python3"
  },
  "language_info": {
   "codemirror_mode": {
    "name": "ipython",
    "version": 3
   },
   "file_extension": ".py",
   "mimetype": "text/x-python",
   "name": "python",
   "nbconvert_exporter": "python",
   "pygments_lexer": "ipython3",
   "version": "3.12.4"
  }
 },
 "nbformat": 4,
 "nbformat_minor": 2
}
