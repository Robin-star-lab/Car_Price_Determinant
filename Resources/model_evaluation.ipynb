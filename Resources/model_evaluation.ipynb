{
 "cells": [
  {
   "cell_type": "code",
   "execution_count": 1,
   "metadata": {},
   "outputs": [],
   "source": [
    "import os"
   ]
  },
  {
   "cell_type": "code",
   "execution_count": 2,
   "metadata": {},
   "outputs": [
    {
     "data": {
      "text/plain": [
       "'c:\\\\Users\\\\Robin Aluma\\\\Desktop\\\\Car_Price_Pred\\\\Resources'"
      ]
     },
     "execution_count": 2,
     "metadata": {},
     "output_type": "execute_result"
    }
   ],
   "source": [
    "pwd\n"
   ]
  },
  {
   "cell_type": "code",
   "execution_count": 3,
   "metadata": {},
   "outputs": [],
   "source": [
    "os.chdir('../')"
   ]
  },
  {
   "cell_type": "code",
   "execution_count": 4,
   "metadata": {},
   "outputs": [
    {
     "data": {
      "text/plain": [
       "'c:\\\\Users\\\\Robin Aluma\\\\Desktop\\\\Car_Price_Pred'"
      ]
     },
     "execution_count": 4,
     "metadata": {},
     "output_type": "execute_result"
    }
   ],
   "source": [
    "pwd\n"
   ]
  },
  {
   "cell_type": "code",
   "execution_count": 5,
   "metadata": {},
   "outputs": [],
   "source": [
    "\n",
    "from sklearn.metrics import r2_score,mean_squared_error,mean_absolute_error\n",
    "import numpy as np\n",
    "import sys\n",
    "import pandas as pd"
   ]
  },
  {
   "cell_type": "code",
   "execution_count": 6,
   "metadata": {},
   "outputs": [],
   "source": [
    "\n",
    "from src.Car_Price_Pred.utils.common import load_models,load_parameters,read_yaml,create_directories,save_best_model\n",
    "from dataclasses import dataclass\n",
    "from pathlib import Path\n",
    "from src.Car_Price_Pred.constants import *\n",
    "from sklearn.model_selection import train_test_split\n",
    "from Exceptions import CustomException\n",
    "import mlflow\n",
    "from mlflow.models.signature import infer_signature"
   ]
  },
  {
   "cell_type": "code",
   "execution_count": 7,
   "metadata": {},
   "outputs": [],
   "source": [
    "@dataclass\n",
    "class ModelEvaluationConfig():\n",
    "    root_url: Path\n",
    "    evaluation_data: Path\n",
    "    best_model_path: Path\n",
    "    decision_tree: str\n",
    "    lasso: str\n",
    "    linear_regression: str\n",
    "    neighbors: str\n",
    "    svm: str\n",
    "    random_forest: str\n",
    "    "
   ]
  },
  {
   "cell_type": "code",
   "execution_count": 8,
   "metadata": {},
   "outputs": [],
   "source": [
    "class ModelEvaluationConfigurationManager:\n",
    "    def __init__(self, config_file_path = CONFIG_FILE_PATH):\n",
    "        self.config = read_yaml(config_file_path)\n",
    "        \n",
    "        create_directories([self.config.Artifacts_root])\n",
    "        \n",
    "    def get_model_evaluation_config(self)->ModelEvaluationConfig:\n",
    "        config = self.config.model_evaluation\n",
    "        \n",
    "        create_directories([config.root_url])\n",
    "        model_evaluation_config = ModelEvaluationConfig(\n",
    "            root_url = config.root_url,\n",
    "            evaluation_data = config.evaluation_data,\n",
    "            best_model_path = config.best_model_path,\n",
    "            decision_tree = config.decision_tree,\n",
    "            lasso = config.lasso,\n",
    "            linear_regression = config.linear_regression,\n",
    "            neighbors = config.neighbors,\n",
    "            svm = config.svm,\n",
    "            random_forest = config.random_forest\n",
    "        )\n",
    "        \n",
    "        return model_evaluation_config\n",
    "    "
   ]
  },
  {
   "cell_type": "code",
   "execution_count": 9,
   "metadata": {},
   "outputs": [],
   "source": [
    "class ModelEvaluation():\n",
    "    def __init__(self, config = ModelEvaluationConfig):\n",
    "        self.config = config\n",
    "        \n",
    "    def evaluate_model(self):\n",
    "        test_data = pd.read_csv(self.config.evaluation_data)\n",
    "        \n",
    "        test_data.fillna(test_data.mean(),inplace=True)\n",
    "        \n",
    "        self.x_test = test_data.iloc[:,:-1]\n",
    "        self.y_test = test_data.iloc[:,-1]\n",
    "        x_train,x_test,y_train,y_test = train_test_split(self.x_test,self.y_test,test_size=0.3,random_state=42)\n",
    "        \n",
    "        mlflow.set_experiment(\"Robins_Experiment\")\n",
    "        with mlflow.start_run():\n",
    "            \n",
    "            \n",
    "            \n",
    "            models = [\n",
    "                load_models(self.config.decision_tree),\n",
    "                load_models(self.config.lasso),\n",
    "                load_models(self.config.linear_regression),\n",
    "                load_models(self.config.neighbors),\n",
    "                load_models(self.config.svm),\n",
    "                load_models(self.config.random_forest)]\n",
    "        \n",
    "            best_model = None\n",
    "            best_score = 0\n",
    "        \n",
    "            for model in models:\n",
    "                \n",
    "                model.fit(x_train,y_train)\n",
    "                self.y_predict = model.predict(x_test)\n",
    "                signature = infer_signature(x_test, self.y_predict)\n",
    "                input_example = x_test.iloc[0].to_dict()\n",
    "                \n",
    "                \n",
    "                score = r2_score(y_test,self.y_predict)\n",
    "                if score > best_score:\n",
    "                    best_model = model\n",
    "                    best_score = score\n",
    "            \n",
    "            mlflow.log_metric('best_score',best_score)\n",
    "            mlflow.sklearn.log_model(best_model,artifact_path =\"best_model\",signature=signature,input_example=input_example)\n",
    "                    \n",
    "            \n",
    "            \n",
    "        save_best_model(best_model,os.path.join(self.config.best_model_path,f\"{best_model}_.joblib\"))\n",
    "        \n",
    "        \n",
    "        "
   ]
  },
  {
   "cell_type": "code",
   "execution_count": 10,
   "metadata": {},
   "outputs": [],
   "source": [
    "class ModelEvaluationPipeline():\n",
    "    def __init__(self):\n",
    "        pass\n",
    "    def main(self):\n",
    "        try:\n",
    "            config = ModelEvaluationConfigurationManager()\n",
    "            get_model_evaluation_config = config.get_model_evaluation_config()\n",
    "            model_evaluation = ModelEvaluation(config=get_model_evaluation_config)\n",
    "            model_evaluation.evaluate_model()\n",
    "        except Exception as e:\n",
    "            raise CustomException(e,sys)"
   ]
  },
  {
   "cell_type": "code",
   "execution_count": 11,
   "metadata": {},
   "outputs": [
    {
     "name": "stdout",
     "output_type": "stream",
     "text": [
      "[ 2025-01-23 00:16:34,009 : common : INFO : Creates directory for path;artifacts in file paths :['artifacts'] ]\n",
      "[ 2025-01-23 00:16:34,011 : common : INFO : Creates directory for path;artifacts/model_evaluation in file paths :['artifacts/model_evaluation'] ]\n",
      "Unexpected exception formatting exception. Falling back to standard exception\n"
     ]
    },
    {
     "name": "stderr",
     "output_type": "stream",
     "text": [
      "Traceback (most recent call last):\n",
      "  File \"C:\\Users\\Robin Aluma\\AppData\\Local\\Temp\\ipykernel_14964\\1654836985.py\", line 9, in main\n",
      "    model_evaluation.evaluate_model()\n",
      "  File \"C:\\Users\\Robin Aluma\\AppData\\Local\\Temp\\ipykernel_14964\\872146688.py\", line 44, in evaluate_model\n",
      "    mlflow.sklearn.log_model(best_model,artifact_path =\"best_model\",signature=signature,input_example=input_example)\n",
      "  File \"c:\\Users\\Robin Aluma\\Desktop\\Car_Price_Pred\\Car_price\\Lib\\site-packages\\mlflow\\sklearn\\__init__.py\", line 413, in log_model\n",
      "    return Model.log(\n",
      "           ^^^^^^^^^^\n",
      "  File \"c:\\Users\\Robin Aluma\\Desktop\\Car_Price_Pred\\Car_price\\Lib\\site-packages\\mlflow\\models\\model.py\", line 776, in log\n",
      "    flavor.save_model(path=local_path, mlflow_model=mlflow_model, **kwargs)\n",
      "  File \"c:\\Users\\Robin Aluma\\Desktop\\Car_Price_Pred\\Car_price\\Lib\\site-packages\\mlflow\\sklearn\\__init__.py\", line 250, in save_model\n",
      "    saved_example = _save_example(mlflow_model, input_example, path)\n",
      "                    ^^^^^^^^^^^^^^^^^^^^^^^^^^^^^^^^^^^^^^^^^^^^^^^^\n",
      "  File \"c:\\Users\\Robin Aluma\\Desktop\\Car_Price_Pred\\Car_price\\Lib\\site-packages\\mlflow\\models\\utils.py\", line 517, in _save_example\n",
      "    example = _Example(input_example)\n",
      "              ^^^^^^^^^^^^^^^^^^^^^^^\n",
      "  File \"c:\\Users\\Robin Aluma\\Desktop\\Car_Price_Pred\\Car_price\\Lib\\site-packages\\mlflow\\models\\utils.py\", line 375, in __init__\n",
      "    raise MlflowException.invalid_parameter_value(\n",
      "mlflow.exceptions.MlflowException: Expected one of the following types:\n",
      "- pandas.DataFrame\n",
      "- numpy.ndarray\n",
      "- dictionary of (name -> numpy.ndarray)\n",
      "- scipy.sparse.csr_matrix\n",
      "- scipy.sparse.csc_matrix\n",
      "- dict\n",
      "- list\n",
      "- scalars\n",
      "- datetime.datetime\n",
      "but got '<class 'pandas.core.series.Series'>'\n",
      "\n",
      "During handling of the above exception, another exception occurred:\n",
      "\n",
      "Traceback (most recent call last):\n",
      "  File \"C:\\Users\\Robin Aluma\\AppData\\Local\\Temp\\ipykernel_14964\\2051446063.py\", line 4, in <module>\n",
      "    obj.main()\n",
      "  File \"C:\\Users\\Robin Aluma\\AppData\\Local\\Temp\\ipykernel_14964\\1654836985.py\", line 11, in main\n",
      "    raise CustomException(e,sys)\n",
      "Exceptions.CustomException: Error occured in python script no [Expected one of the following types:\n",
      "- pandas.DataFrame\n",
      "- numpy.ndarray\n",
      "- dictionary of (name -> numpy.ndarray)\n",
      "- scipy.sparse.csr_matrix\n",
      "- scipy.sparse.csc_matrix\n",
      "- dict\n",
      "- list\n",
      "- scalars\n",
      "- datetime.datetime\n",
      "but got '<class 'pandas.core.series.Series'>'] line number [9] error message [C:\\Users\\Robin Aluma\\AppData\\Local\\Temp\\ipykernel_14964\\1654836985.py]\n",
      "\n",
      "During handling of the above exception, another exception occurred:\n",
      "\n",
      "Traceback (most recent call last):\n",
      "  File \"C:\\Users\\Robin Aluma\\AppData\\Roaming\\Python\\Python312\\site-packages\\IPython\\core\\interactiveshell.py\", line 3577, in run_code\n",
      "    exec(code_obj, self.user_global_ns, self.user_ns)\n",
      "  File \"C:\\Users\\Robin Aluma\\AppData\\Local\\Temp\\ipykernel_14964\\2051446063.py\", line 6, in <module>\n",
      "    raise CustomException(e,sys)\n",
      "Exceptions.CustomException: Error occured in python script no [Error occured in python script no [Expected one of the following types:\n",
      "- pandas.DataFrame\n",
      "- numpy.ndarray\n",
      "- dictionary of (name -> numpy.ndarray)\n",
      "- scipy.sparse.csr_matrix\n",
      "- scipy.sparse.csc_matrix\n",
      "- dict\n",
      "- list\n",
      "- scalars\n",
      "- datetime.datetime\n",
      "but got '<class 'pandas.core.series.Series'>'] line number [9] error message [C:\\Users\\Robin Aluma\\AppData\\Local\\Temp\\ipykernel_14964\\1654836985.py]] line number [4] error message [C:\\Users\\Robin Aluma\\AppData\\Local\\Temp\\ipykernel_14964\\2051446063.py]\n",
      "\n",
      "During handling of the above exception, another exception occurred:\n",
      "\n",
      "Traceback (most recent call last):\n",
      "  File \"C:\\Users\\Robin Aluma\\AppData\\Roaming\\Python\\Python312\\site-packages\\IPython\\core\\interactiveshell.py\", line 2168, in showtraceback\n",
      "    stb = self.InteractiveTB.structured_traceback(\n",
      "          ^^^^^^^^^^^^^^^^^^^^^^^^^^^^^^^^^^^^^^^^\n",
      "  File \"C:\\Users\\Robin Aluma\\AppData\\Roaming\\Python\\Python312\\site-packages\\IPython\\core\\ultratb.py\", line 1454, in structured_traceback\n",
      "    return FormattedTB.structured_traceback(\n",
      "           ^^^^^^^^^^^^^^^^^^^^^^^^^^^^^^^^^\n",
      "  File \"C:\\Users\\Robin Aluma\\AppData\\Roaming\\Python\\Python312\\site-packages\\IPython\\core\\ultratb.py\", line 1345, in structured_traceback\n",
      "    return VerboseTB.structured_traceback(\n",
      "           ^^^^^^^^^^^^^^^^^^^^^^^^^^^^^^^\n",
      "  File \"C:\\Users\\Robin Aluma\\AppData\\Roaming\\Python\\Python312\\site-packages\\IPython\\core\\ultratb.py\", line 1192, in structured_traceback\n",
      "    formatted_exception = self.format_exception_as_a_whole(etype, evalue, etb, number_of_lines_of_context,\n",
      "                          ^^^^^^^^^^^^^^^^^^^^^^^^^^^^^^^^^^^^^^^^^^^^^^^^^^^^^^^^^^^^^^^^^^^^^^^^^^^^^^^^\n",
      "  File \"C:\\Users\\Robin Aluma\\AppData\\Roaming\\Python\\Python312\\site-packages\\IPython\\core\\ultratb.py\", line 1107, in format_exception_as_a_whole\n",
      "    frames.append(self.format_record(record))\n",
      "                  ^^^^^^^^^^^^^^^^^^^^^^^^^^\n",
      "  File \"C:\\Users\\Robin Aluma\\AppData\\Roaming\\Python\\Python312\\site-packages\\IPython\\core\\ultratb.py\", line 989, in format_record\n",
      "    frame_info.lines, Colors, self.has_colors, lvals\n",
      "    ^^^^^^^^^^^^^^^^\n",
      "  File \"C:\\Users\\Robin Aluma\\AppData\\Roaming\\Python\\Python312\\site-packages\\IPython\\core\\ultratb.py\", line 801, in lines\n",
      "    return self._sd.lines\n",
      "           ^^^^^^^^^^^^^^\n",
      "  File \"C:\\Users\\Robin Aluma\\AppData\\Roaming\\Python\\Python312\\site-packages\\stack_data\\utils.py\", line 145, in cached_property_wrapper\n",
      "    value = obj.__dict__[self.func.__name__] = self.func(obj)\n",
      "                                               ^^^^^^^^^^^^^^\n",
      "  File \"C:\\Users\\Robin Aluma\\AppData\\Roaming\\Python\\Python312\\site-packages\\stack_data\\core.py\", line 734, in lines\n",
      "    pieces = self.included_pieces\n",
      "             ^^^^^^^^^^^^^^^^^^^^\n",
      "  File \"C:\\Users\\Robin Aluma\\AppData\\Roaming\\Python\\Python312\\site-packages\\stack_data\\utils.py\", line 145, in cached_property_wrapper\n",
      "    value = obj.__dict__[self.func.__name__] = self.func(obj)\n",
      "                                               ^^^^^^^^^^^^^^\n",
      "  File \"C:\\Users\\Robin Aluma\\AppData\\Roaming\\Python\\Python312\\site-packages\\stack_data\\core.py\", line 677, in included_pieces\n",
      "    scope_pieces = self.scope_pieces\n",
      "                   ^^^^^^^^^^^^^^^^^\n",
      "  File \"C:\\Users\\Robin Aluma\\AppData\\Roaming\\Python\\Python312\\site-packages\\stack_data\\utils.py\", line 145, in cached_property_wrapper\n",
      "    value = obj.__dict__[self.func.__name__] = self.func(obj)\n",
      "                                               ^^^^^^^^^^^^^^\n",
      "  File \"C:\\Users\\Robin Aluma\\AppData\\Roaming\\Python\\Python312\\site-packages\\stack_data\\core.py\", line 614, in scope_pieces\n",
      "    scope_start, scope_end = self.source.line_range(self.scope)\n",
      "                             ^^^^^^^^^^^^^^^^^^^^^^^^^^^^^^^^^^\n",
      "  File \"C:\\Users\\Robin Aluma\\AppData\\Roaming\\Python\\Python312\\site-packages\\stack_data\\core.py\", line 178, in line_range\n",
      "    return line_range(self.asttext(), node)\n",
      "                      ^^^^^^^^^^^^\n",
      "AttributeError: 'Source' object has no attribute 'asttext'\n"
     ]
    }
   ],
   "source": [
    "if __name__ == '__main__':\n",
    "    try:\n",
    "        obj = ModelEvaluationPipeline()\n",
    "        obj.main()\n",
    "    except Exception as e:\n",
    "        raise CustomException(e,sys)"
   ]
  },
  {
   "cell_type": "code",
   "execution_count": null,
   "metadata": {},
   "outputs": [],
   "source": []
  }
 ],
 "metadata": {
  "kernelspec": {
   "display_name": "Python 3",
   "language": "python",
   "name": "python3"
  },
  "language_info": {
   "codemirror_mode": {
    "name": "ipython",
    "version": 3
   },
   "file_extension": ".py",
   "mimetype": "text/x-python",
   "name": "python",
   "nbconvert_exporter": "python",
   "pygments_lexer": "ipython3",
   "version": "3.12.4"
  }
 },
 "nbformat": 4,
 "nbformat_minor": 2
}
