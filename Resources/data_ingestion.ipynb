{
 "cells": [
  {
   "cell_type": "code",
   "execution_count": 1,
   "metadata": {},
   "outputs": [],
   "source": [
    "import os"
   ]
  },
  {
   "cell_type": "code",
   "execution_count": 2,
   "metadata": {},
   "outputs": [
    {
     "data": {
      "text/plain": [
       "'c:\\\\Users\\\\Robin Aluma\\\\Desktop\\\\Car_Price_Pred\\\\Resources'"
      ]
     },
     "execution_count": 2,
     "metadata": {},
     "output_type": "execute_result"
    }
   ],
   "source": [
    "pwd"
   ]
  },
  {
   "cell_type": "code",
   "execution_count": 3,
   "metadata": {},
   "outputs": [],
   "source": [
    "os.chdir('../')"
   ]
  },
  {
   "cell_type": "code",
   "execution_count": 4,
   "metadata": {},
   "outputs": [
    {
     "data": {
      "text/plain": [
       "'c:\\\\Users\\\\Robin Aluma\\\\Desktop\\\\Car_Price_Pred'"
      ]
     },
     "execution_count": 4,
     "metadata": {},
     "output_type": "execute_result"
    }
   ],
   "source": [
    "pwd"
   ]
  },
  {
   "cell_type": "code",
   "execution_count": 5,
   "metadata": {},
   "outputs": [],
   "source": [
    "from pathlib import Path\n",
    "from dataclasses import dataclass"
   ]
  },
  {
   "cell_type": "code",
   "execution_count": 6,
   "metadata": {},
   "outputs": [],
   "source": [
    "@dataclass\n",
    "class DataIngestionConfig():\n",
    "    root_url: Path\n",
    "    source_url: str\n",
    "    unzip_data: Path\n",
    "    local_data_path: Path\n",
    "    "
   ]
  },
  {
   "cell_type": "code",
   "execution_count": 7,
   "metadata": {},
   "outputs": [],
   "source": [
    "from src.Car_Price_Pred.constants import *\n",
    "import yaml\n",
    "from src.Car_Price_Pred.utils.common import read_yaml,create_directories\n",
    "import urllib.request as request\n",
    "\n",
    "import zipfile\n",
    "from logger import my_logger\n",
    "import sys\n",
    "from Exceptions import CustomException\n"
   ]
  },
  {
   "cell_type": "code",
   "execution_count": 8,
   "metadata": {},
   "outputs": [],
   "source": [
    "# Creating the configuration manager\n",
    "class ConfigurationManager:\n",
    "    def __init__(self,\n",
    "                 config_file_path = CONFIG_FILE_PATH,\n",
    "                 params_file_path = PARAMS_FILE_PATH,\n",
    "                 schema_file_path = SCHEMA_FILE_PATH):\n",
    "        self.config = read_yaml(config_file_path)\n",
    "        self.params = read_yaml(params_file_path)\n",
    "        self.schema = read_yaml(schema_file_path)\n",
    "        \n",
    "        create_directories([self.config.Artifacts_root])\n",
    "        \n",
    "        \n",
    "    def get_ingestion_config(self)->DataIngestionConfig:\n",
    "        self.config = self.config.data_ingestion\n",
    "        \n",
    "        create_directories([self.config.root_url])\n",
    "        \n",
    "        get_data_ingestion_config = DataIngestionConfig(\n",
    "            root_url= self.config.root_url,\n",
    "            source_url= self.config.source_url,\n",
    "            unzip_data= self.config.unzip_data,\n",
    "            local_data_path= self.config.local_data_path\n",
    "        )\n",
    "        \n",
    "        return get_data_ingestion_config"
   ]
  },
  {
   "cell_type": "code",
   "execution_count": 9,
   "metadata": {},
   "outputs": [],
   "source": [
    "# Setting data ingestion configuration\n",
    "class DataIngestion():\n",
    "    def __init__(self, config:DataIngestionConfig):\n",
    "        self.config = config\n",
    "    \n",
    "    # Loading and unzipping github data\n",
    "    def load_data(self):\n",
    "        # This function loads data from github\n",
    "        local_data_path = self.config.local_data_path\n",
    "        if (not os.path.exists(local_data_path)):\n",
    "            file_name,headers = request.urlretrieve(\n",
    "                url=self.config.source_url,\n",
    "                filename=local_data_path\n",
    "            )\n",
    "    def extract_data(self):\n",
    "        # This function extracts data from the downloaded zipfile\n",
    "        local_data_path = self.config.local_data_path\n",
    "        unzip_data = self.config.unzip_data\n",
    "        if unzip_data !=\"\":\n",
    "            os.makedirs(unzip_data,exist_ok=True)\n",
    "        else:\n",
    "            my_logger.info(\"Folder already exists\")\n",
    "        with zipfile.ZipFile(local_data_path) as zipref:\n",
    "            zipref.extractall(unzip_data)\n",
    "            \n",
    "        my_logger.info(\"Extracted the zipfile\")\n",
    "            \n",
    "        "
   ]
  },
  {
   "cell_type": "code",
   "execution_count": 10,
   "metadata": {},
   "outputs": [],
   "source": [
    "# Creating the data ingestion pipeline\n",
    "class DataIngestionPipeline():\n",
    "    def __init__(self):\n",
    "        pass\n",
    "    def main(self):\n",
    "        # Ingestion pipeline\n",
    "        try:\n",
    "            config = ConfigurationManager()\n",
    "            data_ingestion_config = config.get_ingestion_config()\n",
    "            data_ingestion =DataIngestion(config=data_ingestion_config)\n",
    "            data_ingestion.load_data()\n",
    "            data_ingestion.extract_data()\n",
    "        except Exception as e:\n",
    "            raise CustomException(e,sys)\n",
    "            \n",
    "    "
   ]
  },
  {
   "cell_type": "code",
   "execution_count": 11,
   "metadata": {},
   "outputs": [
    {
     "name": "stdout",
     "output_type": "stream",
     "text": [
      "Unexpected exception formatting exception. Falling back to standard exception\n"
     ]
    },
    {
     "name": "stderr",
     "output_type": "stream",
     "text": [
      "Traceback (most recent call last):\n",
      "  File \"C:\\Users\\Robin Aluma\\AppData\\Local\\Temp\\ipykernel_11112\\3122126276.py\", line 8, in main\n",
      "    config = ConfigurationManager()\n",
      "             ^^^^^^^^^^^^^^^^^^^^^^\n",
      "  File \"C:\\Users\\Robin Aluma\\AppData\\Local\\Temp\\ipykernel_11112\\1635320997.py\", line 7, in __init__\n",
      "    self.config = read_yaml(config_file_path)\n",
      "                  ^^^^^^^^^^^^^^^^^^^^^^^^^^^\n",
      "  File \"c:\\Users\\Robin Aluma\\Desktop\\Car_Price_Pred\\Car_price\\Lib\\site-packages\\ensure\\main.py\", line 872, in __call__\n",
      "    return_val = self.f(*args, **kwargs)\n",
      "                 ^^^^^^^^^^^^^^^^^^^^^^^\n",
      "  File \"c:\\Users\\Robin Aluma\\Desktop\\Car_Price_Pred\\src\\Car_Price_Pred\\utils\\common.py\", line 15, in read_yaml\n",
      "    data = yaml.safe_load(f)\n",
      "           ^^^^^^^^^^^^^^^^^\n",
      "  File \"c:\\Users\\Robin Aluma\\Desktop\\Car_Price_Pred\\Car_price\\Lib\\site-packages\\yaml\\__init__.py\", line 125, in safe_load\n",
      "    return load(stream, SafeLoader)\n",
      "           ^^^^^^^^^^^^^^^^^^^^^^^^\n",
      "  File \"c:\\Users\\Robin Aluma\\Desktop\\Car_Price_Pred\\Car_price\\Lib\\site-packages\\yaml\\__init__.py\", line 81, in load\n",
      "    return loader.get_single_data()\n",
      "           ^^^^^^^^^^^^^^^^^^^^^^^^\n",
      "  File \"c:\\Users\\Robin Aluma\\Desktop\\Car_Price_Pred\\Car_price\\Lib\\site-packages\\yaml\\constructor.py\", line 49, in get_single_data\n",
      "    node = self.get_single_node()\n",
      "           ^^^^^^^^^^^^^^^^^^^^^^\n",
      "  File \"c:\\Users\\Robin Aluma\\Desktop\\Car_Price_Pred\\Car_price\\Lib\\site-packages\\yaml\\composer.py\", line 36, in get_single_node\n",
      "    document = self.compose_document()\n",
      "               ^^^^^^^^^^^^^^^^^^^^^^^\n",
      "  File \"c:\\Users\\Robin Aluma\\Desktop\\Car_Price_Pred\\Car_price\\Lib\\site-packages\\yaml\\composer.py\", line 55, in compose_document\n",
      "    node = self.compose_node(None, None)\n",
      "           ^^^^^^^^^^^^^^^^^^^^^^^^^^^^^\n",
      "  File \"c:\\Users\\Robin Aluma\\Desktop\\Car_Price_Pred\\Car_price\\Lib\\site-packages\\yaml\\composer.py\", line 84, in compose_node\n",
      "    node = self.compose_mapping_node(anchor)\n",
      "           ^^^^^^^^^^^^^^^^^^^^^^^^^^^^^^^^^\n",
      "  File \"c:\\Users\\Robin Aluma\\Desktop\\Car_Price_Pred\\Car_price\\Lib\\site-packages\\yaml\\composer.py\", line 127, in compose_mapping_node\n",
      "    while not self.check_event(MappingEndEvent):\n",
      "              ^^^^^^^^^^^^^^^^^^^^^^^^^^^^^^^^^\n",
      "  File \"c:\\Users\\Robin Aluma\\Desktop\\Car_Price_Pred\\Car_price\\Lib\\site-packages\\yaml\\parser.py\", line 98, in check_event\n",
      "    self.current_event = self.state()\n",
      "                         ^^^^^^^^^^^^\n",
      "  File \"c:\\Users\\Robin Aluma\\Desktop\\Car_Price_Pred\\Car_price\\Lib\\site-packages\\yaml\\parser.py\", line 428, in parse_block_mapping_key\n",
      "    if self.check_token(KeyToken):\n",
      "       ^^^^^^^^^^^^^^^^^^^^^^^^^^\n",
      "  File \"c:\\Users\\Robin Aluma\\Desktop\\Car_Price_Pred\\Car_price\\Lib\\site-packages\\yaml\\scanner.py\", line 115, in check_token\n",
      "    while self.need_more_tokens():\n",
      "          ^^^^^^^^^^^^^^^^^^^^^^^\n",
      "  File \"c:\\Users\\Robin Aluma\\Desktop\\Car_Price_Pred\\Car_price\\Lib\\site-packages\\yaml\\scanner.py\", line 152, in need_more_tokens\n",
      "    self.stale_possible_simple_keys()\n",
      "  File \"c:\\Users\\Robin Aluma\\Desktop\\Car_Price_Pred\\Car_price\\Lib\\site-packages\\yaml\\scanner.py\", line 291, in stale_possible_simple_keys\n",
      "    raise ScannerError(\"while scanning a simple key\", key.mark,\n",
      "yaml.scanner.ScannerError: while scanning a simple key\n",
      "  in \"config\\config.yaml\", line 10, column 1\n",
      "could not find expected ':'\n",
      "  in \"config\\config.yaml\", line 13, column 58\n",
      "\n",
      "During handling of the above exception, another exception occurred:\n",
      "\n",
      "Traceback (most recent call last):\n",
      "  File \"C:\\Users\\Robin Aluma\\AppData\\Roaming\\Python\\Python312\\site-packages\\IPython\\core\\interactiveshell.py\", line 3577, in run_code\n",
      "    exec(code_obj, self.user_global_ns, self.user_ns)\n",
      "  File \"C:\\Users\\Robin Aluma\\AppData\\Local\\Temp\\ipykernel_11112\\215660072.py\", line 3, in <module>\n",
      "    obj.main()\n",
      "  File \"C:\\Users\\Robin Aluma\\AppData\\Local\\Temp\\ipykernel_11112\\3122126276.py\", line 14, in main\n",
      "    raise CustomException(e,sys)\n",
      "          ^^^^^^^^^^^^^^^^^^^^^^\n",
      "  File \"c:\\Users\\Robin Aluma\\Desktop\\Car_Price_Pred\\Exceptions.py\", line 15, in __init__\n",
      "    super(error_message).__init__(self)\n",
      "    ^^^^^^^^^^^^^^^^^^^^\n",
      "TypeError: super() argument 1 must be a type, not ScannerError\n",
      "\n",
      "During handling of the above exception, another exception occurred:\n",
      "\n",
      "Traceback (most recent call last):\n",
      "  File \"C:\\Users\\Robin Aluma\\AppData\\Roaming\\Python\\Python312\\site-packages\\IPython\\core\\interactiveshell.py\", line 2168, in showtraceback\n",
      "    stb = self.InteractiveTB.structured_traceback(\n",
      "          ^^^^^^^^^^^^^^^^^^^^^^^^^^^^^^^^^^^^^^^^\n",
      "  File \"C:\\Users\\Robin Aluma\\AppData\\Roaming\\Python\\Python312\\site-packages\\IPython\\core\\ultratb.py\", line 1454, in structured_traceback\n",
      "    return FormattedTB.structured_traceback(\n",
      "           ^^^^^^^^^^^^^^^^^^^^^^^^^^^^^^^^^\n",
      "  File \"C:\\Users\\Robin Aluma\\AppData\\Roaming\\Python\\Python312\\site-packages\\IPython\\core\\ultratb.py\", line 1345, in structured_traceback\n",
      "    return VerboseTB.structured_traceback(\n",
      "           ^^^^^^^^^^^^^^^^^^^^^^^^^^^^^^^\n",
      "  File \"C:\\Users\\Robin Aluma\\AppData\\Roaming\\Python\\Python312\\site-packages\\IPython\\core\\ultratb.py\", line 1192, in structured_traceback\n",
      "    formatted_exception = self.format_exception_as_a_whole(etype, evalue, etb, number_of_lines_of_context,\n",
      "                          ^^^^^^^^^^^^^^^^^^^^^^^^^^^^^^^^^^^^^^^^^^^^^^^^^^^^^^^^^^^^^^^^^^^^^^^^^^^^^^^^\n",
      "  File \"C:\\Users\\Robin Aluma\\AppData\\Roaming\\Python\\Python312\\site-packages\\IPython\\core\\ultratb.py\", line 1107, in format_exception_as_a_whole\n",
      "    frames.append(self.format_record(record))\n",
      "                  ^^^^^^^^^^^^^^^^^^^^^^^^^^\n",
      "  File \"C:\\Users\\Robin Aluma\\AppData\\Roaming\\Python\\Python312\\site-packages\\IPython\\core\\ultratb.py\", line 989, in format_record\n",
      "    frame_info.lines, Colors, self.has_colors, lvals\n",
      "    ^^^^^^^^^^^^^^^^\n",
      "  File \"C:\\Users\\Robin Aluma\\AppData\\Roaming\\Python\\Python312\\site-packages\\IPython\\core\\ultratb.py\", line 801, in lines\n",
      "    return self._sd.lines\n",
      "           ^^^^^^^^^^^^^^\n",
      "  File \"C:\\Users\\Robin Aluma\\AppData\\Roaming\\Python\\Python312\\site-packages\\stack_data\\utils.py\", line 145, in cached_property_wrapper\n",
      "    value = obj.__dict__[self.func.__name__] = self.func(obj)\n",
      "                                               ^^^^^^^^^^^^^^\n",
      "  File \"C:\\Users\\Robin Aluma\\AppData\\Roaming\\Python\\Python312\\site-packages\\stack_data\\core.py\", line 734, in lines\n",
      "    pieces = self.included_pieces\n",
      "             ^^^^^^^^^^^^^^^^^^^^\n",
      "  File \"C:\\Users\\Robin Aluma\\AppData\\Roaming\\Python\\Python312\\site-packages\\stack_data\\utils.py\", line 145, in cached_property_wrapper\n",
      "    value = obj.__dict__[self.func.__name__] = self.func(obj)\n",
      "                                               ^^^^^^^^^^^^^^\n",
      "  File \"C:\\Users\\Robin Aluma\\AppData\\Roaming\\Python\\Python312\\site-packages\\stack_data\\core.py\", line 677, in included_pieces\n",
      "    scope_pieces = self.scope_pieces\n",
      "                   ^^^^^^^^^^^^^^^^^\n",
      "  File \"C:\\Users\\Robin Aluma\\AppData\\Roaming\\Python\\Python312\\site-packages\\stack_data\\utils.py\", line 145, in cached_property_wrapper\n",
      "    value = obj.__dict__[self.func.__name__] = self.func(obj)\n",
      "                                               ^^^^^^^^^^^^^^\n",
      "  File \"C:\\Users\\Robin Aluma\\AppData\\Roaming\\Python\\Python312\\site-packages\\stack_data\\core.py\", line 614, in scope_pieces\n",
      "    scope_start, scope_end = self.source.line_range(self.scope)\n",
      "                             ^^^^^^^^^^^^^^^^^^^^^^^^^^^^^^^^^^\n",
      "  File \"C:\\Users\\Robin Aluma\\AppData\\Roaming\\Python\\Python312\\site-packages\\stack_data\\core.py\", line 178, in line_range\n",
      "    return line_range(self.asttext(), node)\n",
      "                      ^^^^^^^^^^^^\n",
      "AttributeError: 'Source' object has no attribute 'asttext'\n"
     ]
    }
   ],
   "source": [
    "\"\"\"if __name__=='__main__':\n",
    "    obj = DataIngestionPipeline()\n",
    "    obj.main()\"\"\""
   ]
  },
  {
   "cell_type": "code",
   "execution_count": null,
   "metadata": {},
   "outputs": [],
   "source": []
  }
 ],
 "metadata": {
  "kernelspec": {
   "display_name": "Python 3",
   "language": "python",
   "name": "python3"
  },
  "language_info": {
   "codemirror_mode": {
    "name": "ipython",
    "version": 3
   },
   "file_extension": ".py",
   "mimetype": "text/x-python",
   "name": "python",
   "nbconvert_exporter": "python",
   "pygments_lexer": "ipython3",
   "version": "3.12.4"
  }
 },
 "nbformat": 4,
 "nbformat_minor": 2
}
