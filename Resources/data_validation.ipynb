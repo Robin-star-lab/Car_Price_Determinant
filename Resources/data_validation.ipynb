{
 "cells": [
  {
   "cell_type": "code",
   "execution_count": 10,
   "metadata": {},
   "outputs": [],
   "source": [
    "import os"
   ]
  },
  {
   "cell_type": "code",
   "execution_count": 11,
   "metadata": {},
   "outputs": [
    {
     "data": {
      "text/plain": [
       "'c:\\\\Users\\\\Robin Aluma\\\\Desktop\\\\Car_Price_Pred'"
      ]
     },
     "execution_count": 11,
     "metadata": {},
     "output_type": "execute_result"
    }
   ],
   "source": [
    "pwd"
   ]
  },
  {
   "cell_type": "code",
   "execution_count": 12,
   "metadata": {},
   "outputs": [],
   "source": [
    "os.chdir('../')"
   ]
  },
  {
   "cell_type": "code",
   "execution_count": 13,
   "metadata": {},
   "outputs": [],
   "source": [
    "\n",
    "from dataclasses import dataclass\n",
    "from pathlib import Path\n",
    "from src.Car_Price_Pred.constants import *\n",
    "from src.Car_Price_Pred.utils.common import read_yaml,create_directories\n",
    "import pandas as pd\n",
    "from typing import List\n",
    "from Exceptions import CustomException\n",
    "import sys"
   ]
  },
  {
   "cell_type": "code",
   "execution_count": 14,
   "metadata": {},
   "outputs": [],
   "source": [
    "# Data evaluation entity\n",
    "@dataclass\n",
    "class DataEvaluationConfig():\n",
    "    root_url: Path\n",
    "    data_directory: Path\n",
    "    validation_status:  str\n",
    "    all_schema:  dict\n"
   ]
  },
  {
   "cell_type": "code",
   "execution_count": 15,
   "metadata": {},
   "outputs": [],
   "source": [
    "# Data evaluation configuration manager\n",
    "class ConfigurationManager:\n",
    "    def __init__(self, config_file_path = CONFIG_FILE_PATH,\n",
    "                 params_file_path = PARAMS_FILE_PATH,\n",
    "                 schema_file_path = SCHEMA_FILE_PATH):\n",
    "        self.config = read_yaml(config_file_path)\n",
    "        self.params = read_yaml(params_file_path)\n",
    "        self.schema = read_yaml(schema_file_path)\n",
    "        \n",
    "        create_directories([self.config.Artifacts_root])\n",
    "        \n",
    "    def data_evaluation_config(self)->DataEvaluationConfig:\n",
    "        config = self.config.data_evaluation\n",
    "        schema = self.schema.CONTENT\n",
    "        create_directories([config.root_url])\n",
    "        \n",
    "        get_data_evalution_config = DataEvaluationConfig(\n",
    "            root_url = config.root_url,\n",
    "            data_directory = config.data_directory,\n",
    "            validation_status = config.validation_status,\n",
    "            all_schema = schema\n",
    "        )\n",
    "        \n",
    "        return get_data_evalution_config"
   ]
  },
  {
   "cell_type": "code",
   "execution_count": null,
   "metadata": {},
   "outputs": [],
   "source": []
  },
  {
   "cell_type": "code",
   "execution_count": 16,
   "metadata": {},
   "outputs": [],
   "source": [
    "# Initiate data evaluation\n",
    "class DataEvaluation():\n",
    "    def __init__(self,config: DataEvaluationConfig):\n",
    "        self.config = config\n",
    "        \n",
    "    def evaluate_data(self):\n",
    "        data_to_evaluate = pd.read_csv(self.config.data_directory)\n",
    "        columns_to_evaluate = list(data_to_evaluate.columns)\n",
    "        columns_compared_with = self.config.all_schema.keys()\n",
    "        \n",
    "        try:\n",
    "            Validation_status = None\n",
    "            for columns in columns_to_evaluate:\n",
    "                if columns not in columns_to_evaluate:\n",
    "                    Validation_status = False\n",
    "                    with open(self.config.validation_status,'w') as valid:\n",
    "                        valid.write(f\"The Validation status is: {Validation_status}\")\n",
    "                else:\n",
    "                    Validation_status = True\n",
    "                    with open(self.config.validation_status,'w') as valid:\n",
    "                        valid.write(f\"The validation status is: {Validation_status}\")\n",
    "                        \n",
    "        except Exception as e:\n",
    "            raise CustomException(e,sys)"
   ]
  },
  {
   "cell_type": "code",
   "execution_count": 17,
   "metadata": {},
   "outputs": [],
   "source": [
    "# Validation pipeline\n",
    "class DataValidationPipeline():\n",
    "    def __init__(self):\n",
    "        pass\n",
    "    def main(self):\n",
    "        try:\n",
    "            config = ConfigurationManager()\n",
    "            data_evaluation_config = config.data_evaluation_config()\n",
    "            data_evaluation = DataEvaluation(config=data_evaluation_config)\n",
    "            data_evaluation.evaluate_data()\n",
    "        except Exception as e:\n",
    "            raise CustomException(e,sys)"
   ]
  },
  {
   "cell_type": "code",
   "execution_count": 18,
   "metadata": {},
   "outputs": [
    {
     "name": "stdout",
     "output_type": "stream",
     "text": [
      "Unexpected exception formatting exception. Falling back to standard exception\n"
     ]
    },
    {
     "name": "stderr",
     "output_type": "stream",
     "text": [
      "Traceback (most recent call last):\n",
      "  File \"C:\\Users\\Robin Aluma\\AppData\\Local\\Temp\\ipykernel_11028\\2006691519.py\", line 7, in main\n",
      "    config = ConfigurationManager()\n",
      "             ^^^^^^^^^^^^^^^^^^^^^^\n",
      "  File \"C:\\Users\\Robin Aluma\\AppData\\Local\\Temp\\ipykernel_11028\\4255848745.py\", line 6, in __init__\n",
      "    self.config = read_yaml(config_file_path)\n",
      "                  ^^^^^^^^^^^^^^^^^^^^^^^^^^^\n",
      "  File \"c:\\Users\\Robin Aluma\\Desktop\\Car_Price_Pred\\Car_price\\Lib\\site-packages\\ensure\\main.py\", line 872, in __call__\n",
      "    return_val = self.f(*args, **kwargs)\n",
      "                 ^^^^^^^^^^^^^^^^^^^^^^^\n",
      "  File \"c:\\Users\\Robin Aluma\\Desktop\\Car_Price_Pred\\src\\Car_Price_Pred\\utils\\common.py\", line 14, in read_yaml\n",
      "    with open(file_path,'r') as f:\n",
      "         ^^^^^^^^^^^^^^^^^^^\n",
      "FileNotFoundError: [Errno 2] No such file or directory: 'config\\\\config.yaml'\n",
      "\n",
      "During handling of the above exception, another exception occurred:\n",
      "\n",
      "Traceback (most recent call last):\n",
      "  File \"C:\\Users\\Robin Aluma\\AppData\\Roaming\\Python\\Python312\\site-packages\\IPython\\core\\interactiveshell.py\", line 3577, in run_code\n",
      "    exec(code_obj, self.user_global_ns, self.user_ns)\n",
      "  File \"C:\\Users\\Robin Aluma\\AppData\\Local\\Temp\\ipykernel_11028\\2635462617.py\", line 4, in <module>\n",
      "    obj.main()\n",
      "  File \"C:\\Users\\Robin Aluma\\AppData\\Local\\Temp\\ipykernel_11028\\2006691519.py\", line 12, in main\n",
      "    raise CustomException(e,sys)\n",
      "          ^^^^^^^^^^^^^^^^^^^^^^\n",
      "  File \"c:\\Users\\Robin Aluma\\Desktop\\Car_Price_Pred\\Exceptions.py\", line 15, in __init__\n",
      "    super(error_message).__init__(self)\n",
      "    ^^^^^^^^^^^^^^^^^^^^\n",
      "TypeError: super() argument 1 must be a type, not FileNotFoundError\n",
      "\n",
      "During handling of the above exception, another exception occurred:\n",
      "\n",
      "Traceback (most recent call last):\n",
      "  File \"C:\\Users\\Robin Aluma\\AppData\\Roaming\\Python\\Python312\\site-packages\\IPython\\core\\interactiveshell.py\", line 2168, in showtraceback\n",
      "    stb = self.InteractiveTB.structured_traceback(\n",
      "          ^^^^^^^^^^^^^^^^^^^^^^^^^^^^^^^^^^^^^^^^\n",
      "  File \"C:\\Users\\Robin Aluma\\AppData\\Roaming\\Python\\Python312\\site-packages\\IPython\\core\\ultratb.py\", line 1454, in structured_traceback\n",
      "    return FormattedTB.structured_traceback(\n",
      "           ^^^^^^^^^^^^^^^^^^^^^^^^^^^^^^^^^\n",
      "  File \"C:\\Users\\Robin Aluma\\AppData\\Roaming\\Python\\Python312\\site-packages\\IPython\\core\\ultratb.py\", line 1345, in structured_traceback\n",
      "    return VerboseTB.structured_traceback(\n",
      "           ^^^^^^^^^^^^^^^^^^^^^^^^^^^^^^^\n",
      "  File \"C:\\Users\\Robin Aluma\\AppData\\Roaming\\Python\\Python312\\site-packages\\IPython\\core\\ultratb.py\", line 1192, in structured_traceback\n",
      "    formatted_exception = self.format_exception_as_a_whole(etype, evalue, etb, number_of_lines_of_context,\n",
      "                          ^^^^^^^^^^^^^^^^^^^^^^^^^^^^^^^^^^^^^^^^^^^^^^^^^^^^^^^^^^^^^^^^^^^^^^^^^^^^^^^^\n",
      "  File \"C:\\Users\\Robin Aluma\\AppData\\Roaming\\Python\\Python312\\site-packages\\IPython\\core\\ultratb.py\", line 1107, in format_exception_as_a_whole\n",
      "    frames.append(self.format_record(record))\n",
      "                  ^^^^^^^^^^^^^^^^^^^^^^^^^^\n",
      "  File \"C:\\Users\\Robin Aluma\\AppData\\Roaming\\Python\\Python312\\site-packages\\IPython\\core\\ultratb.py\", line 989, in format_record\n",
      "    frame_info.lines, Colors, self.has_colors, lvals\n",
      "    ^^^^^^^^^^^^^^^^\n",
      "  File \"C:\\Users\\Robin Aluma\\AppData\\Roaming\\Python\\Python312\\site-packages\\IPython\\core\\ultratb.py\", line 801, in lines\n",
      "    return self._sd.lines\n",
      "           ^^^^^^^^^^^^^^\n",
      "  File \"C:\\Users\\Robin Aluma\\AppData\\Roaming\\Python\\Python312\\site-packages\\stack_data\\utils.py\", line 145, in cached_property_wrapper\n",
      "    value = obj.__dict__[self.func.__name__] = self.func(obj)\n",
      "                                               ^^^^^^^^^^^^^^\n",
      "  File \"C:\\Users\\Robin Aluma\\AppData\\Roaming\\Python\\Python312\\site-packages\\stack_data\\core.py\", line 734, in lines\n",
      "    pieces = self.included_pieces\n",
      "             ^^^^^^^^^^^^^^^^^^^^\n",
      "  File \"C:\\Users\\Robin Aluma\\AppData\\Roaming\\Python\\Python312\\site-packages\\stack_data\\utils.py\", line 145, in cached_property_wrapper\n",
      "    value = obj.__dict__[self.func.__name__] = self.func(obj)\n",
      "                                               ^^^^^^^^^^^^^^\n",
      "  File \"C:\\Users\\Robin Aluma\\AppData\\Roaming\\Python\\Python312\\site-packages\\stack_data\\core.py\", line 677, in included_pieces\n",
      "    scope_pieces = self.scope_pieces\n",
      "                   ^^^^^^^^^^^^^^^^^\n",
      "  File \"C:\\Users\\Robin Aluma\\AppData\\Roaming\\Python\\Python312\\site-packages\\stack_data\\utils.py\", line 145, in cached_property_wrapper\n",
      "    value = obj.__dict__[self.func.__name__] = self.func(obj)\n",
      "                                               ^^^^^^^^^^^^^^\n",
      "  File \"C:\\Users\\Robin Aluma\\AppData\\Roaming\\Python\\Python312\\site-packages\\stack_data\\core.py\", line 614, in scope_pieces\n",
      "    scope_start, scope_end = self.source.line_range(self.scope)\n",
      "                             ^^^^^^^^^^^^^^^^^^^^^^^^^^^^^^^^^^\n",
      "  File \"C:\\Users\\Robin Aluma\\AppData\\Roaming\\Python\\Python312\\site-packages\\stack_data\\core.py\", line 178, in line_range\n",
      "    return line_range(self.asttext(), node)\n",
      "                      ^^^^^^^^^^^^\n",
      "AttributeError: 'Source' object has no attribute 'asttext'\n"
     ]
    }
   ],
   "source": [
    "if __name__=='__main__':\n",
    "    # test the function\n",
    "    obj =DataValidationPipeline()\n",
    "    obj.main()"
   ]
  },
  {
   "cell_type": "code",
   "execution_count": null,
   "metadata": {},
   "outputs": [],
   "source": []
  }
 ],
 "metadata": {
  "kernelspec": {
   "display_name": "Python 3",
   "language": "python",
   "name": "python3"
  },
  "language_info": {
   "codemirror_mode": {
    "name": "ipython",
    "version": 3
   },
   "file_extension": ".py",
   "mimetype": "text/x-python",
   "name": "python",
   "nbconvert_exporter": "python",
   "pygments_lexer": "ipython3",
   "version": "3.12.4"
  }
 },
 "nbformat": 4,
 "nbformat_minor": 2
}
