# For categorical columns
transformer_categorical = ColumnTransformer(
    [
        ('categorical_pipeline', Pipeline([
            ('impute', SimpleImputer(strategy='most_frequent')),
            ('encoder', OrdinalEncoder()),
            ('scaler', StandardScaler())
        ]), categorical_columns)
    ]
)

# For numerical columns 
transformer_numerical = ColumnTransformer(
    [
        ('numerical_pipeline', Pipeline([
            ('impute', SimpleImputer(strategy='median')),
            ('scaler', StandardScaler())
        ]), numerical_columns)
    ]
)
